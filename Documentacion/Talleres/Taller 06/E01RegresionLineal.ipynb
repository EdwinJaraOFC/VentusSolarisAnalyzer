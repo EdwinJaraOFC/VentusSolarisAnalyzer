{
  "nbformat": 4,
  "nbformat_minor": 0,
  "metadata": {
    "colab": {
      "provenance": []
    },
    "kernelspec": {
      "name": "python3",
      "display_name": "Python 3"
    },
    "language_info": {
      "name": "python"
    }
  },
  "cells": [
    {
      "cell_type": "markdown",
      "source": [
        "# **Air Data: Air Quality Data Collected at Outdoor Monitors Across the US**"
      ],
      "metadata": {
        "id": "-lmEkYXVrOLb"
      }
    },
    {
      "cell_type": "markdown",
      "source": [
        "## **I. Descripción de los Atributos**"
      ],
      "metadata": {
        "id": "gkWCK0bvuCP5"
      }
    },
    {
      "cell_type": "markdown",
      "source": [
        "- <strong>Date:</strong> Fecha en la que se realizó la medición o el registro de los datos.\n",
        "\n",
        "- <strong>Source:</strong> Fuente de los datos, indicando de dónde proviene la información.\n",
        "\n",
        "- <strong>Site ID:</strong> Identificador único del sitio o estación de monitoreo donde se recolectaron los datos.\n",
        "\n",
        "- <strong>POC:</strong> Abreviatura de \"Parameter Occurrence Code\", que indica el número de veces que un parámetro específico ha sido registrado en un sitio en particular.\n",
        "\n",
        "- <strong>Daily Max 8-hour Ozone Concentration:</strong> Concentración máxima de ozono registrada en un periodo de 8 horas durante un día. Se mide en unidades específicas, como partes por millón (ppm).\n",
        "\n",
        "- <strong>Units:</strong> Unidades de medida utilizadas para la concentración de ozono u otros parámetros medidos.\n",
        "\n",
        "- <strong>Daily AQI Value:</strong> Valor del Índice de Calidad del Aire (AQI, por sus siglas en inglés) para el día correspondiente, basado en la concentración de contaminantes. Este valor indica la calidad del aire.\n",
        "\n",
        "- <strong>Local Site Name:</strong> Nombre del sitio o estación de monitoreo local.\n",
        "\n",
        "- <strong>Daily Obs Count:</strong> Número de observaciones diarias registradas en el sitio de monitoreo, lo cual puede reflejar la cantidad de datos recolectados en un día específico.\n",
        "\n",
        "- <strong>Percent Complete:</strong> Porcentaje que indica qué tan completa es la serie de datos recolectados para el parámetro específico en un día.\n",
        "\n",
        "- <strong>AQS Parameter Code:</strong> Código utilizado por el Sistema de Calidad del Aire (AQS, por sus siglas en inglés) para identificar el parámetro específico que se está midiendo, como el ozono, dióxido de nitrógeno, etc.\n",
        "\n",
        "- <strong>AQS Parameter Description:</strong> Descripción del parámetro medido, por ejemplo, \"Ozono\", \"Dióxido de Nitrógeno\", etc.\n",
        "\n",
        "- <strong>Method Code:</strong> Código que indica el método de medición utilizado para el parámetro, como el tipo de equipo o procedimiento empleado.\n",
        "\n",
        "- <strong>CBSA Code:</strong> Código de la Área Estadística Metropolitana Básica (Core-Based Statistical Area), utilizado por agencias como la Oficina del Censo de EE. UU. para agrupar áreas urbanas y sus alrededores.\n",
        "\n",
        "- <strong>CBSA Name:</strong> Nombre de la CBSA asociada al código, que identifica el área metropolitana o micropolitana donde se encuentra el sitio de monitoreo.\n",
        "\n",
        "- <strong>State FIPS Code:</strong> Código FIPS (Federal Information Processing Standards) que identifica de manera única al estado en el que se encuentra el sitio de monitoreo.\n",
        "\n",
        "- <strong>State:</strong> Nombre del estado donde se recolectaron los datos.\n",
        "\n",
        "- <strong>County FIPS Code:</strong> Código FIPS que identifica de manera única al condado en el que se encuentra el sitio de monitoreo.\n",
        "\n",
        "- <strong>County:</strong> Nombre del condado donde se recolectaron los datos.\n",
        "\n",
        "- <strong>Site Latitude:</strong> Latitud geográfica del sitio de monitoreo, medida en grados.\n",
        "\n",
        "- <strong>Site Longitude:</strong> Longitud geográfica del sitio de monitoreo, medida en grados."
      ],
      "metadata": {
        "id": "DzxgFGvGuKQa"
      }
    },
    {
      "cell_type": "markdown",
      "source": [
        "## **II. Carga y Exploración de los Datos**"
      ],
      "metadata": {
        "id": "QIbzwgwzr1Ky"
      }
    },
    {
      "cell_type": "markdown",
      "source": [
        "### **A. Importación de librerías importantes**"
      ],
      "metadata": {
        "id": "4xN-5QTXilSn"
      }
    },
    {
      "cell_type": "code",
      "source": [
        "import numpy as np # Álgebra lineal\n",
        "import pandas as pd # Procesamiento de datos"
      ],
      "metadata": {
        "id": "_MYwMYSQr9l1"
      },
      "execution_count": 236,
      "outputs": []
    },
    {
      "cell_type": "markdown",
      "source": [
        "### **B. Exploración Inicial**"
      ],
      "metadata": {
        "id": "34U-_3Pqr9Lc"
      }
    },
    {
      "cell_type": "code",
      "execution_count": 237,
      "metadata": {
        "colab": {
          "base_uri": "https://localhost:8080/"
        },
        "id": "5QQqGI6XqzXV",
        "outputId": "0623b9aa-1624-40af-b110-35070cdc1009"
      },
      "outputs": [
        {
          "output_type": "execute_result",
          "data": {
            "text/plain": [
              "(4075, 21)"
            ]
          },
          "metadata": {},
          "execution_count": 237
        }
      ],
      "source": [
        "data2022 = pd.read_csv('ad_viz_plotval_data_2022.csv') # Carga de datos\n",
        "data2022.shape # Dimensiones de los datos"
      ]
    },
    {
      "cell_type": "code",
      "source": [
        "data2023 = pd.read_csv('ad_viz_plotval_data_2023.csv') # Carga de datos\n",
        "data2023.shape # Dimensiones de los datos"
      ],
      "metadata": {
        "colab": {
          "base_uri": "https://localhost:8080/"
        },
        "id": "dFacYyqIt0dq",
        "outputId": "836f532d-eeb8-408d-f70b-7f2a99aa3725"
      },
      "execution_count": 238,
      "outputs": [
        {
          "output_type": "execute_result",
          "data": {
            "text/plain": [
              "(4677, 21)"
            ]
          },
          "metadata": {},
          "execution_count": 238
        }
      ]
    },
    {
      "cell_type": "code",
      "source": [
        "data = pd.concat([data2022, data2023]) # Unión de los datasets\n",
        "data.shape # Dimensiones de los datos"
      ],
      "metadata": {
        "colab": {
          "base_uri": "https://localhost:8080/"
        },
        "id": "qIj9brC1wO9h",
        "outputId": "90049288-0e42-44b4-d341-be4cd15942f4"
      },
      "execution_count": 239,
      "outputs": [
        {
          "output_type": "execute_result",
          "data": {
            "text/plain": [
              "(8752, 21)"
            ]
          },
          "metadata": {},
          "execution_count": 239
        }
      ]
    },
    {
      "cell_type": "code",
      "source": [
        "data.head(3) # Vista previa de los datos"
      ],
      "metadata": {
        "colab": {
          "base_uri": "https://localhost:8080/",
          "height": 383
        },
        "id": "XAFC_5whwt-m",
        "outputId": "34758c35-79c9-4058-da39-90d506c9856e"
      },
      "execution_count": 240,
      "outputs": [
        {
          "output_type": "execute_result",
          "data": {
            "text/plain": [
              "         Date Source    Site ID  POC  Daily Max 8-hour Ozone Concentration  \\\n",
              "0  03/01/2022    AQS  270031001    1                                 0.050   \n",
              "1  03/02/2022    AQS  270031001    1                                 0.046   \n",
              "2  03/03/2022    AQS  270031001    1                                 0.042   \n",
              "\n",
              "  Units  Daily AQI Value Local Site Name  Daily Obs Count  Percent Complete  \\\n",
              "0   ppm               46     Cedar Creek               17             100.0   \n",
              "1   ppm               43     Cedar Creek               17             100.0   \n",
              "2   ppm               39     Cedar Creek               17             100.0   \n",
              "\n",
              "   ...  AQS Parameter Description Method Code  CBSA Code  \\\n",
              "0  ...                      Ozone        87.0    33460.0   \n",
              "1  ...                      Ozone        87.0    33460.0   \n",
              "2  ...                      Ozone        87.0    33460.0   \n",
              "\n",
              "                                 CBSA Name State FIPS Code      State  \\\n",
              "0  Minneapolis-St. Paul-Bloomington, MN-WI              27  Minnesota   \n",
              "1  Minneapolis-St. Paul-Bloomington, MN-WI              27  Minnesota   \n",
              "2  Minneapolis-St. Paul-Bloomington, MN-WI              27  Minnesota   \n",
              "\n",
              "  County FIPS Code  County Site Latitude  Site Longitude  \n",
              "0                3   Anoka      45.40184       -93.20306  \n",
              "1                3   Anoka      45.40184       -93.20306  \n",
              "2                3   Anoka      45.40184       -93.20306  \n",
              "\n",
              "[3 rows x 21 columns]"
            ],
            "text/html": [
              "\n",
              "  <div id=\"df-58303114-6762-4935-a4c8-86654a469424\" class=\"colab-df-container\">\n",
              "    <div>\n",
              "<style scoped>\n",
              "    .dataframe tbody tr th:only-of-type {\n",
              "        vertical-align: middle;\n",
              "    }\n",
              "\n",
              "    .dataframe tbody tr th {\n",
              "        vertical-align: top;\n",
              "    }\n",
              "\n",
              "    .dataframe thead th {\n",
              "        text-align: right;\n",
              "    }\n",
              "</style>\n",
              "<table border=\"1\" class=\"dataframe\">\n",
              "  <thead>\n",
              "    <tr style=\"text-align: right;\">\n",
              "      <th></th>\n",
              "      <th>Date</th>\n",
              "      <th>Source</th>\n",
              "      <th>Site ID</th>\n",
              "      <th>POC</th>\n",
              "      <th>Daily Max 8-hour Ozone Concentration</th>\n",
              "      <th>Units</th>\n",
              "      <th>Daily AQI Value</th>\n",
              "      <th>Local Site Name</th>\n",
              "      <th>Daily Obs Count</th>\n",
              "      <th>Percent Complete</th>\n",
              "      <th>...</th>\n",
              "      <th>AQS Parameter Description</th>\n",
              "      <th>Method Code</th>\n",
              "      <th>CBSA Code</th>\n",
              "      <th>CBSA Name</th>\n",
              "      <th>State FIPS Code</th>\n",
              "      <th>State</th>\n",
              "      <th>County FIPS Code</th>\n",
              "      <th>County</th>\n",
              "      <th>Site Latitude</th>\n",
              "      <th>Site Longitude</th>\n",
              "    </tr>\n",
              "  </thead>\n",
              "  <tbody>\n",
              "    <tr>\n",
              "      <th>0</th>\n",
              "      <td>03/01/2022</td>\n",
              "      <td>AQS</td>\n",
              "      <td>270031001</td>\n",
              "      <td>1</td>\n",
              "      <td>0.050</td>\n",
              "      <td>ppm</td>\n",
              "      <td>46</td>\n",
              "      <td>Cedar Creek</td>\n",
              "      <td>17</td>\n",
              "      <td>100.0</td>\n",
              "      <td>...</td>\n",
              "      <td>Ozone</td>\n",
              "      <td>87.0</td>\n",
              "      <td>33460.0</td>\n",
              "      <td>Minneapolis-St. Paul-Bloomington, MN-WI</td>\n",
              "      <td>27</td>\n",
              "      <td>Minnesota</td>\n",
              "      <td>3</td>\n",
              "      <td>Anoka</td>\n",
              "      <td>45.40184</td>\n",
              "      <td>-93.20306</td>\n",
              "    </tr>\n",
              "    <tr>\n",
              "      <th>1</th>\n",
              "      <td>03/02/2022</td>\n",
              "      <td>AQS</td>\n",
              "      <td>270031001</td>\n",
              "      <td>1</td>\n",
              "      <td>0.046</td>\n",
              "      <td>ppm</td>\n",
              "      <td>43</td>\n",
              "      <td>Cedar Creek</td>\n",
              "      <td>17</td>\n",
              "      <td>100.0</td>\n",
              "      <td>...</td>\n",
              "      <td>Ozone</td>\n",
              "      <td>87.0</td>\n",
              "      <td>33460.0</td>\n",
              "      <td>Minneapolis-St. Paul-Bloomington, MN-WI</td>\n",
              "      <td>27</td>\n",
              "      <td>Minnesota</td>\n",
              "      <td>3</td>\n",
              "      <td>Anoka</td>\n",
              "      <td>45.40184</td>\n",
              "      <td>-93.20306</td>\n",
              "    </tr>\n",
              "    <tr>\n",
              "      <th>2</th>\n",
              "      <td>03/03/2022</td>\n",
              "      <td>AQS</td>\n",
              "      <td>270031001</td>\n",
              "      <td>1</td>\n",
              "      <td>0.042</td>\n",
              "      <td>ppm</td>\n",
              "      <td>39</td>\n",
              "      <td>Cedar Creek</td>\n",
              "      <td>17</td>\n",
              "      <td>100.0</td>\n",
              "      <td>...</td>\n",
              "      <td>Ozone</td>\n",
              "      <td>87.0</td>\n",
              "      <td>33460.0</td>\n",
              "      <td>Minneapolis-St. Paul-Bloomington, MN-WI</td>\n",
              "      <td>27</td>\n",
              "      <td>Minnesota</td>\n",
              "      <td>3</td>\n",
              "      <td>Anoka</td>\n",
              "      <td>45.40184</td>\n",
              "      <td>-93.20306</td>\n",
              "    </tr>\n",
              "  </tbody>\n",
              "</table>\n",
              "<p>3 rows × 21 columns</p>\n",
              "</div>\n",
              "    <div class=\"colab-df-buttons\">\n",
              "\n",
              "  <div class=\"colab-df-container\">\n",
              "    <button class=\"colab-df-convert\" onclick=\"convertToInteractive('df-58303114-6762-4935-a4c8-86654a469424')\"\n",
              "            title=\"Convert this dataframe to an interactive table.\"\n",
              "            style=\"display:none;\">\n",
              "\n",
              "  <svg xmlns=\"http://www.w3.org/2000/svg\" height=\"24px\" viewBox=\"0 -960 960 960\">\n",
              "    <path d=\"M120-120v-720h720v720H120Zm60-500h600v-160H180v160Zm220 220h160v-160H400v160Zm0 220h160v-160H400v160ZM180-400h160v-160H180v160Zm440 0h160v-160H620v160ZM180-180h160v-160H180v160Zm440 0h160v-160H620v160Z\"/>\n",
              "  </svg>\n",
              "    </button>\n",
              "\n",
              "  <style>\n",
              "    .colab-df-container {\n",
              "      display:flex;\n",
              "      gap: 12px;\n",
              "    }\n",
              "\n",
              "    .colab-df-convert {\n",
              "      background-color: #E8F0FE;\n",
              "      border: none;\n",
              "      border-radius: 50%;\n",
              "      cursor: pointer;\n",
              "      display: none;\n",
              "      fill: #1967D2;\n",
              "      height: 32px;\n",
              "      padding: 0 0 0 0;\n",
              "      width: 32px;\n",
              "    }\n",
              "\n",
              "    .colab-df-convert:hover {\n",
              "      background-color: #E2EBFA;\n",
              "      box-shadow: 0px 1px 2px rgba(60, 64, 67, 0.3), 0px 1px 3px 1px rgba(60, 64, 67, 0.15);\n",
              "      fill: #174EA6;\n",
              "    }\n",
              "\n",
              "    .colab-df-buttons div {\n",
              "      margin-bottom: 4px;\n",
              "    }\n",
              "\n",
              "    [theme=dark] .colab-df-convert {\n",
              "      background-color: #3B4455;\n",
              "      fill: #D2E3FC;\n",
              "    }\n",
              "\n",
              "    [theme=dark] .colab-df-convert:hover {\n",
              "      background-color: #434B5C;\n",
              "      box-shadow: 0px 1px 3px 1px rgba(0, 0, 0, 0.15);\n",
              "      filter: drop-shadow(0px 1px 2px rgba(0, 0, 0, 0.3));\n",
              "      fill: #FFFFFF;\n",
              "    }\n",
              "  </style>\n",
              "\n",
              "    <script>\n",
              "      const buttonEl =\n",
              "        document.querySelector('#df-58303114-6762-4935-a4c8-86654a469424 button.colab-df-convert');\n",
              "      buttonEl.style.display =\n",
              "        google.colab.kernel.accessAllowed ? 'block' : 'none';\n",
              "\n",
              "      async function convertToInteractive(key) {\n",
              "        const element = document.querySelector('#df-58303114-6762-4935-a4c8-86654a469424');\n",
              "        const dataTable =\n",
              "          await google.colab.kernel.invokeFunction('convertToInteractive',\n",
              "                                                    [key], {});\n",
              "        if (!dataTable) return;\n",
              "\n",
              "        const docLinkHtml = 'Like what you see? Visit the ' +\n",
              "          '<a target=\"_blank\" href=https://colab.research.google.com/notebooks/data_table.ipynb>data table notebook</a>'\n",
              "          + ' to learn more about interactive tables.';\n",
              "        element.innerHTML = '';\n",
              "        dataTable['output_type'] = 'display_data';\n",
              "        await google.colab.output.renderOutput(dataTable, element);\n",
              "        const docLink = document.createElement('div');\n",
              "        docLink.innerHTML = docLinkHtml;\n",
              "        element.appendChild(docLink);\n",
              "      }\n",
              "    </script>\n",
              "  </div>\n",
              "\n",
              "\n",
              "<div id=\"df-3c8b6dfc-9bf4-44f2-9630-3ed5b68e5653\">\n",
              "  <button class=\"colab-df-quickchart\" onclick=\"quickchart('df-3c8b6dfc-9bf4-44f2-9630-3ed5b68e5653')\"\n",
              "            title=\"Suggest charts\"\n",
              "            style=\"display:none;\">\n",
              "\n",
              "<svg xmlns=\"http://www.w3.org/2000/svg\" height=\"24px\"viewBox=\"0 0 24 24\"\n",
              "     width=\"24px\">\n",
              "    <g>\n",
              "        <path d=\"M19 3H5c-1.1 0-2 .9-2 2v14c0 1.1.9 2 2 2h14c1.1 0 2-.9 2-2V5c0-1.1-.9-2-2-2zM9 17H7v-7h2v7zm4 0h-2V7h2v10zm4 0h-2v-4h2v4z\"/>\n",
              "    </g>\n",
              "</svg>\n",
              "  </button>\n",
              "\n",
              "<style>\n",
              "  .colab-df-quickchart {\n",
              "      --bg-color: #E8F0FE;\n",
              "      --fill-color: #1967D2;\n",
              "      --hover-bg-color: #E2EBFA;\n",
              "      --hover-fill-color: #174EA6;\n",
              "      --disabled-fill-color: #AAA;\n",
              "      --disabled-bg-color: #DDD;\n",
              "  }\n",
              "\n",
              "  [theme=dark] .colab-df-quickchart {\n",
              "      --bg-color: #3B4455;\n",
              "      --fill-color: #D2E3FC;\n",
              "      --hover-bg-color: #434B5C;\n",
              "      --hover-fill-color: #FFFFFF;\n",
              "      --disabled-bg-color: #3B4455;\n",
              "      --disabled-fill-color: #666;\n",
              "  }\n",
              "\n",
              "  .colab-df-quickchart {\n",
              "    background-color: var(--bg-color);\n",
              "    border: none;\n",
              "    border-radius: 50%;\n",
              "    cursor: pointer;\n",
              "    display: none;\n",
              "    fill: var(--fill-color);\n",
              "    height: 32px;\n",
              "    padding: 0;\n",
              "    width: 32px;\n",
              "  }\n",
              "\n",
              "  .colab-df-quickchart:hover {\n",
              "    background-color: var(--hover-bg-color);\n",
              "    box-shadow: 0 1px 2px rgba(60, 64, 67, 0.3), 0 1px 3px 1px rgba(60, 64, 67, 0.15);\n",
              "    fill: var(--button-hover-fill-color);\n",
              "  }\n",
              "\n",
              "  .colab-df-quickchart-complete:disabled,\n",
              "  .colab-df-quickchart-complete:disabled:hover {\n",
              "    background-color: var(--disabled-bg-color);\n",
              "    fill: var(--disabled-fill-color);\n",
              "    box-shadow: none;\n",
              "  }\n",
              "\n",
              "  .colab-df-spinner {\n",
              "    border: 2px solid var(--fill-color);\n",
              "    border-color: transparent;\n",
              "    border-bottom-color: var(--fill-color);\n",
              "    animation:\n",
              "      spin 1s steps(1) infinite;\n",
              "  }\n",
              "\n",
              "  @keyframes spin {\n",
              "    0% {\n",
              "      border-color: transparent;\n",
              "      border-bottom-color: var(--fill-color);\n",
              "      border-left-color: var(--fill-color);\n",
              "    }\n",
              "    20% {\n",
              "      border-color: transparent;\n",
              "      border-left-color: var(--fill-color);\n",
              "      border-top-color: var(--fill-color);\n",
              "    }\n",
              "    30% {\n",
              "      border-color: transparent;\n",
              "      border-left-color: var(--fill-color);\n",
              "      border-top-color: var(--fill-color);\n",
              "      border-right-color: var(--fill-color);\n",
              "    }\n",
              "    40% {\n",
              "      border-color: transparent;\n",
              "      border-right-color: var(--fill-color);\n",
              "      border-top-color: var(--fill-color);\n",
              "    }\n",
              "    60% {\n",
              "      border-color: transparent;\n",
              "      border-right-color: var(--fill-color);\n",
              "    }\n",
              "    80% {\n",
              "      border-color: transparent;\n",
              "      border-right-color: var(--fill-color);\n",
              "      border-bottom-color: var(--fill-color);\n",
              "    }\n",
              "    90% {\n",
              "      border-color: transparent;\n",
              "      border-bottom-color: var(--fill-color);\n",
              "    }\n",
              "  }\n",
              "</style>\n",
              "\n",
              "  <script>\n",
              "    async function quickchart(key) {\n",
              "      const quickchartButtonEl =\n",
              "        document.querySelector('#' + key + ' button');\n",
              "      quickchartButtonEl.disabled = true;  // To prevent multiple clicks.\n",
              "      quickchartButtonEl.classList.add('colab-df-spinner');\n",
              "      try {\n",
              "        const charts = await google.colab.kernel.invokeFunction(\n",
              "            'suggestCharts', [key], {});\n",
              "      } catch (error) {\n",
              "        console.error('Error during call to suggestCharts:', error);\n",
              "      }\n",
              "      quickchartButtonEl.classList.remove('colab-df-spinner');\n",
              "      quickchartButtonEl.classList.add('colab-df-quickchart-complete');\n",
              "    }\n",
              "    (() => {\n",
              "      let quickchartButtonEl =\n",
              "        document.querySelector('#df-3c8b6dfc-9bf4-44f2-9630-3ed5b68e5653 button');\n",
              "      quickchartButtonEl.style.display =\n",
              "        google.colab.kernel.accessAllowed ? 'block' : 'none';\n",
              "    })();\n",
              "  </script>\n",
              "</div>\n",
              "\n",
              "    </div>\n",
              "  </div>\n"
            ],
            "application/vnd.google.colaboratory.intrinsic+json": {
              "type": "dataframe",
              "variable_name": "data"
            }
          },
          "metadata": {},
          "execution_count": 240
        }
      ]
    },
    {
      "cell_type": "code",
      "source": [
        "data.info() # Información de los datos"
      ],
      "metadata": {
        "colab": {
          "base_uri": "https://localhost:8080/"
        },
        "id": "0bxAbFVrwyQt",
        "outputId": "ddec4b47-0cb6-441e-8103-1c23ca8c51c2"
      },
      "execution_count": 241,
      "outputs": [
        {
          "output_type": "stream",
          "name": "stdout",
          "text": [
            "<class 'pandas.core.frame.DataFrame'>\n",
            "Index: 8752 entries, 0 to 4676\n",
            "Data columns (total 21 columns):\n",
            " #   Column                                Non-Null Count  Dtype  \n",
            "---  ------                                --------------  -----  \n",
            " 0   Date                                  8752 non-null   object \n",
            " 1   Source                                8752 non-null   object \n",
            " 2   Site ID                               8752 non-null   int64  \n",
            " 3   POC                                   8752 non-null   int64  \n",
            " 4   Daily Max 8-hour Ozone Concentration  8752 non-null   float64\n",
            " 5   Units                                 8752 non-null   object \n",
            " 6   Daily AQI Value                       8752 non-null   int64  \n",
            " 7   Local Site Name                       8752 non-null   object \n",
            " 8   Daily Obs Count                       8752 non-null   int64  \n",
            " 9   Percent Complete                      8752 non-null   float64\n",
            " 10  AQS Parameter Code                    8752 non-null   int64  \n",
            " 11  AQS Parameter Description             8752 non-null   object \n",
            " 12  Method Code                           8395 non-null   float64\n",
            " 13  CBSA Code                             7800 non-null   float64\n",
            " 14  CBSA Name                             7800 non-null   object \n",
            " 15  State FIPS Code                       8752 non-null   int64  \n",
            " 16  State                                 8752 non-null   object \n",
            " 17  County FIPS Code                      8752 non-null   int64  \n",
            " 18  County                                8752 non-null   object \n",
            " 19  Site Latitude                         8752 non-null   float64\n",
            " 20  Site Longitude                        8752 non-null   float64\n",
            "dtypes: float64(6), int64(7), object(8)\n",
            "memory usage: 1.5+ MB\n"
          ]
        }
      ]
    },
    {
      "cell_type": "markdown",
      "source": [
        "### **C. Tipos de Datos**"
      ],
      "metadata": {
        "id": "VwoTEJq7sGRa"
      }
    },
    {
      "cell_type": "code",
      "source": [
        "data.describe(include = 'object').T # Estadísticas de los datos objeto"
      ],
      "metadata": {
        "colab": {
          "base_uri": "https://localhost:8080/",
          "height": 300
        },
        "id": "irmBLJpGsG2S",
        "outputId": "9618c4cf-df72-4eaf-eb7c-351106300a02"
      },
      "execution_count": 242,
      "outputs": [
        {
          "output_type": "execute_result",
          "data": {
            "text/plain": [
              "                          count unique  \\\n",
              "Date                       8752    729   \n",
              "Source                     8752      2   \n",
              "Units                      8752      1   \n",
              "Local Site Name            8752     17   \n",
              "AQS Parameter Description  8752      1   \n",
              "CBSA Name                  7800      7   \n",
              "State                      8752      1   \n",
              "County                     8752     15   \n",
              "\n",
              "                                                               top  freq  \n",
              "Date                                                    03/01/2022    17  \n",
              "Source                                                         AQS  8395  \n",
              "Units                                                          ppm  8752  \n",
              "Local Site Name                                B.F. Pearson School   710  \n",
              "AQS Parameter Description                                    Ozone  8752  \n",
              "CBSA Name                  Minneapolis-St. Paul-Bloomington, MN-WI  3666  \n",
              "State                                                    Minnesota  8752  \n",
              "County                                                 Saint Louis  1385  "
            ],
            "text/html": [
              "\n",
              "  <div id=\"df-c344fcd5-a3e3-4e41-b9a1-e9093ae1752f\" class=\"colab-df-container\">\n",
              "    <div>\n",
              "<style scoped>\n",
              "    .dataframe tbody tr th:only-of-type {\n",
              "        vertical-align: middle;\n",
              "    }\n",
              "\n",
              "    .dataframe tbody tr th {\n",
              "        vertical-align: top;\n",
              "    }\n",
              "\n",
              "    .dataframe thead th {\n",
              "        text-align: right;\n",
              "    }\n",
              "</style>\n",
              "<table border=\"1\" class=\"dataframe\">\n",
              "  <thead>\n",
              "    <tr style=\"text-align: right;\">\n",
              "      <th></th>\n",
              "      <th>count</th>\n",
              "      <th>unique</th>\n",
              "      <th>top</th>\n",
              "      <th>freq</th>\n",
              "    </tr>\n",
              "  </thead>\n",
              "  <tbody>\n",
              "    <tr>\n",
              "      <th>Date</th>\n",
              "      <td>8752</td>\n",
              "      <td>729</td>\n",
              "      <td>03/01/2022</td>\n",
              "      <td>17</td>\n",
              "    </tr>\n",
              "    <tr>\n",
              "      <th>Source</th>\n",
              "      <td>8752</td>\n",
              "      <td>2</td>\n",
              "      <td>AQS</td>\n",
              "      <td>8395</td>\n",
              "    </tr>\n",
              "    <tr>\n",
              "      <th>Units</th>\n",
              "      <td>8752</td>\n",
              "      <td>1</td>\n",
              "      <td>ppm</td>\n",
              "      <td>8752</td>\n",
              "    </tr>\n",
              "    <tr>\n",
              "      <th>Local Site Name</th>\n",
              "      <td>8752</td>\n",
              "      <td>17</td>\n",
              "      <td>B.F. Pearson School</td>\n",
              "      <td>710</td>\n",
              "    </tr>\n",
              "    <tr>\n",
              "      <th>AQS Parameter Description</th>\n",
              "      <td>8752</td>\n",
              "      <td>1</td>\n",
              "      <td>Ozone</td>\n",
              "      <td>8752</td>\n",
              "    </tr>\n",
              "    <tr>\n",
              "      <th>CBSA Name</th>\n",
              "      <td>7800</td>\n",
              "      <td>7</td>\n",
              "      <td>Minneapolis-St. Paul-Bloomington, MN-WI</td>\n",
              "      <td>3666</td>\n",
              "    </tr>\n",
              "    <tr>\n",
              "      <th>State</th>\n",
              "      <td>8752</td>\n",
              "      <td>1</td>\n",
              "      <td>Minnesota</td>\n",
              "      <td>8752</td>\n",
              "    </tr>\n",
              "    <tr>\n",
              "      <th>County</th>\n",
              "      <td>8752</td>\n",
              "      <td>15</td>\n",
              "      <td>Saint Louis</td>\n",
              "      <td>1385</td>\n",
              "    </tr>\n",
              "  </tbody>\n",
              "</table>\n",
              "</div>\n",
              "    <div class=\"colab-df-buttons\">\n",
              "\n",
              "  <div class=\"colab-df-container\">\n",
              "    <button class=\"colab-df-convert\" onclick=\"convertToInteractive('df-c344fcd5-a3e3-4e41-b9a1-e9093ae1752f')\"\n",
              "            title=\"Convert this dataframe to an interactive table.\"\n",
              "            style=\"display:none;\">\n",
              "\n",
              "  <svg xmlns=\"http://www.w3.org/2000/svg\" height=\"24px\" viewBox=\"0 -960 960 960\">\n",
              "    <path d=\"M120-120v-720h720v720H120Zm60-500h600v-160H180v160Zm220 220h160v-160H400v160Zm0 220h160v-160H400v160ZM180-400h160v-160H180v160Zm440 0h160v-160H620v160ZM180-180h160v-160H180v160Zm440 0h160v-160H620v160Z\"/>\n",
              "  </svg>\n",
              "    </button>\n",
              "\n",
              "  <style>\n",
              "    .colab-df-container {\n",
              "      display:flex;\n",
              "      gap: 12px;\n",
              "    }\n",
              "\n",
              "    .colab-df-convert {\n",
              "      background-color: #E8F0FE;\n",
              "      border: none;\n",
              "      border-radius: 50%;\n",
              "      cursor: pointer;\n",
              "      display: none;\n",
              "      fill: #1967D2;\n",
              "      height: 32px;\n",
              "      padding: 0 0 0 0;\n",
              "      width: 32px;\n",
              "    }\n",
              "\n",
              "    .colab-df-convert:hover {\n",
              "      background-color: #E2EBFA;\n",
              "      box-shadow: 0px 1px 2px rgba(60, 64, 67, 0.3), 0px 1px 3px 1px rgba(60, 64, 67, 0.15);\n",
              "      fill: #174EA6;\n",
              "    }\n",
              "\n",
              "    .colab-df-buttons div {\n",
              "      margin-bottom: 4px;\n",
              "    }\n",
              "\n",
              "    [theme=dark] .colab-df-convert {\n",
              "      background-color: #3B4455;\n",
              "      fill: #D2E3FC;\n",
              "    }\n",
              "\n",
              "    [theme=dark] .colab-df-convert:hover {\n",
              "      background-color: #434B5C;\n",
              "      box-shadow: 0px 1px 3px 1px rgba(0, 0, 0, 0.15);\n",
              "      filter: drop-shadow(0px 1px 2px rgba(0, 0, 0, 0.3));\n",
              "      fill: #FFFFFF;\n",
              "    }\n",
              "  </style>\n",
              "\n",
              "    <script>\n",
              "      const buttonEl =\n",
              "        document.querySelector('#df-c344fcd5-a3e3-4e41-b9a1-e9093ae1752f button.colab-df-convert');\n",
              "      buttonEl.style.display =\n",
              "        google.colab.kernel.accessAllowed ? 'block' : 'none';\n",
              "\n",
              "      async function convertToInteractive(key) {\n",
              "        const element = document.querySelector('#df-c344fcd5-a3e3-4e41-b9a1-e9093ae1752f');\n",
              "        const dataTable =\n",
              "          await google.colab.kernel.invokeFunction('convertToInteractive',\n",
              "                                                    [key], {});\n",
              "        if (!dataTable) return;\n",
              "\n",
              "        const docLinkHtml = 'Like what you see? Visit the ' +\n",
              "          '<a target=\"_blank\" href=https://colab.research.google.com/notebooks/data_table.ipynb>data table notebook</a>'\n",
              "          + ' to learn more about interactive tables.';\n",
              "        element.innerHTML = '';\n",
              "        dataTable['output_type'] = 'display_data';\n",
              "        await google.colab.output.renderOutput(dataTable, element);\n",
              "        const docLink = document.createElement('div');\n",
              "        docLink.innerHTML = docLinkHtml;\n",
              "        element.appendChild(docLink);\n",
              "      }\n",
              "    </script>\n",
              "  </div>\n",
              "\n",
              "\n",
              "<div id=\"df-fcaa3fcb-156d-4a11-b1bb-5c4c0dac45d7\">\n",
              "  <button class=\"colab-df-quickchart\" onclick=\"quickchart('df-fcaa3fcb-156d-4a11-b1bb-5c4c0dac45d7')\"\n",
              "            title=\"Suggest charts\"\n",
              "            style=\"display:none;\">\n",
              "\n",
              "<svg xmlns=\"http://www.w3.org/2000/svg\" height=\"24px\"viewBox=\"0 0 24 24\"\n",
              "     width=\"24px\">\n",
              "    <g>\n",
              "        <path d=\"M19 3H5c-1.1 0-2 .9-2 2v14c0 1.1.9 2 2 2h14c1.1 0 2-.9 2-2V5c0-1.1-.9-2-2-2zM9 17H7v-7h2v7zm4 0h-2V7h2v10zm4 0h-2v-4h2v4z\"/>\n",
              "    </g>\n",
              "</svg>\n",
              "  </button>\n",
              "\n",
              "<style>\n",
              "  .colab-df-quickchart {\n",
              "      --bg-color: #E8F0FE;\n",
              "      --fill-color: #1967D2;\n",
              "      --hover-bg-color: #E2EBFA;\n",
              "      --hover-fill-color: #174EA6;\n",
              "      --disabled-fill-color: #AAA;\n",
              "      --disabled-bg-color: #DDD;\n",
              "  }\n",
              "\n",
              "  [theme=dark] .colab-df-quickchart {\n",
              "      --bg-color: #3B4455;\n",
              "      --fill-color: #D2E3FC;\n",
              "      --hover-bg-color: #434B5C;\n",
              "      --hover-fill-color: #FFFFFF;\n",
              "      --disabled-bg-color: #3B4455;\n",
              "      --disabled-fill-color: #666;\n",
              "  }\n",
              "\n",
              "  .colab-df-quickchart {\n",
              "    background-color: var(--bg-color);\n",
              "    border: none;\n",
              "    border-radius: 50%;\n",
              "    cursor: pointer;\n",
              "    display: none;\n",
              "    fill: var(--fill-color);\n",
              "    height: 32px;\n",
              "    padding: 0;\n",
              "    width: 32px;\n",
              "  }\n",
              "\n",
              "  .colab-df-quickchart:hover {\n",
              "    background-color: var(--hover-bg-color);\n",
              "    box-shadow: 0 1px 2px rgba(60, 64, 67, 0.3), 0 1px 3px 1px rgba(60, 64, 67, 0.15);\n",
              "    fill: var(--button-hover-fill-color);\n",
              "  }\n",
              "\n",
              "  .colab-df-quickchart-complete:disabled,\n",
              "  .colab-df-quickchart-complete:disabled:hover {\n",
              "    background-color: var(--disabled-bg-color);\n",
              "    fill: var(--disabled-fill-color);\n",
              "    box-shadow: none;\n",
              "  }\n",
              "\n",
              "  .colab-df-spinner {\n",
              "    border: 2px solid var(--fill-color);\n",
              "    border-color: transparent;\n",
              "    border-bottom-color: var(--fill-color);\n",
              "    animation:\n",
              "      spin 1s steps(1) infinite;\n",
              "  }\n",
              "\n",
              "  @keyframes spin {\n",
              "    0% {\n",
              "      border-color: transparent;\n",
              "      border-bottom-color: var(--fill-color);\n",
              "      border-left-color: var(--fill-color);\n",
              "    }\n",
              "    20% {\n",
              "      border-color: transparent;\n",
              "      border-left-color: var(--fill-color);\n",
              "      border-top-color: var(--fill-color);\n",
              "    }\n",
              "    30% {\n",
              "      border-color: transparent;\n",
              "      border-left-color: var(--fill-color);\n",
              "      border-top-color: var(--fill-color);\n",
              "      border-right-color: var(--fill-color);\n",
              "    }\n",
              "    40% {\n",
              "      border-color: transparent;\n",
              "      border-right-color: var(--fill-color);\n",
              "      border-top-color: var(--fill-color);\n",
              "    }\n",
              "    60% {\n",
              "      border-color: transparent;\n",
              "      border-right-color: var(--fill-color);\n",
              "    }\n",
              "    80% {\n",
              "      border-color: transparent;\n",
              "      border-right-color: var(--fill-color);\n",
              "      border-bottom-color: var(--fill-color);\n",
              "    }\n",
              "    90% {\n",
              "      border-color: transparent;\n",
              "      border-bottom-color: var(--fill-color);\n",
              "    }\n",
              "  }\n",
              "</style>\n",
              "\n",
              "  <script>\n",
              "    async function quickchart(key) {\n",
              "      const quickchartButtonEl =\n",
              "        document.querySelector('#' + key + ' button');\n",
              "      quickchartButtonEl.disabled = true;  // To prevent multiple clicks.\n",
              "      quickchartButtonEl.classList.add('colab-df-spinner');\n",
              "      try {\n",
              "        const charts = await google.colab.kernel.invokeFunction(\n",
              "            'suggestCharts', [key], {});\n",
              "      } catch (error) {\n",
              "        console.error('Error during call to suggestCharts:', error);\n",
              "      }\n",
              "      quickchartButtonEl.classList.remove('colab-df-spinner');\n",
              "      quickchartButtonEl.classList.add('colab-df-quickchart-complete');\n",
              "    }\n",
              "    (() => {\n",
              "      let quickchartButtonEl =\n",
              "        document.querySelector('#df-fcaa3fcb-156d-4a11-b1bb-5c4c0dac45d7 button');\n",
              "      quickchartButtonEl.style.display =\n",
              "        google.colab.kernel.accessAllowed ? 'block' : 'none';\n",
              "    })();\n",
              "  </script>\n",
              "</div>\n",
              "\n",
              "    </div>\n",
              "  </div>\n"
            ],
            "application/vnd.google.colaboratory.intrinsic+json": {
              "type": "dataframe",
              "summary": "{\n  \"name\": \"data\",\n  \"rows\": 8,\n  \"fields\": [\n    {\n      \"column\": \"count\",\n      \"properties\": {\n        \"dtype\": \"date\",\n        \"min\": \"7800\",\n        \"max\": \"8752\",\n        \"num_unique_values\": 2,\n        \"samples\": [\n          \"7800\",\n          \"8752\"\n        ],\n        \"semantic_type\": \"\",\n        \"description\": \"\"\n      }\n    },\n    {\n      \"column\": \"unique\",\n      \"properties\": {\n        \"dtype\": \"date\",\n        \"min\": 1,\n        \"max\": 729,\n        \"num_unique_values\": 6,\n        \"samples\": [\n          729,\n          2\n        ],\n        \"semantic_type\": \"\",\n        \"description\": \"\"\n      }\n    },\n    {\n      \"column\": \"top\",\n      \"properties\": {\n        \"dtype\": \"string\",\n        \"num_unique_values\": 8,\n        \"samples\": [\n          \"AQS\",\n          \"Minneapolis-St. Paul-Bloomington, MN-WI\"\n        ],\n        \"semantic_type\": \"\",\n        \"description\": \"\"\n      }\n    },\n    {\n      \"column\": \"freq\",\n      \"properties\": {\n        \"dtype\": \"date\",\n        \"min\": \"17\",\n        \"max\": \"8752\",\n        \"num_unique_values\": 6,\n        \"samples\": [\n          \"17\",\n          \"8395\"\n        ],\n        \"semantic_type\": \"\",\n        \"description\": \"\"\n      }\n    }\n  ]\n}"
            }
          },
          "metadata": {},
          "execution_count": 242
        }
      ]
    },
    {
      "cell_type": "code",
      "source": [
        "data.describe(include = \"number\").T # Estadísticas de los datos numéricos"
      ],
      "metadata": {
        "colab": {
          "base_uri": "https://localhost:8080/",
          "height": 526
        },
        "id": "ZHySWwj4xDrg",
        "outputId": "e57f60a4-8f42-4f98-c8b0-723ebccb83f2"
      },
      "execution_count": 243,
      "outputs": [
        {
          "output_type": "execute_result",
          "data": {
            "text/plain": [
              "                                       count          mean            std  \\\n",
              "Site ID                               8752.0  2.708598e+08  578494.082874   \n",
              "POC                                   8752.0  1.000000e+00       0.000000   \n",
              "Daily Max 8-hour Ozone Concentration  8752.0  3.952559e-02       0.011725   \n",
              "Daily AQI Value                       8752.0  3.813654e+01      15.713866   \n",
              "Daily Obs Count                       8752.0  1.724189e+01       1.375834   \n",
              "Percent Complete                      8752.0  9.976725e+01       2.125717   \n",
              "AQS Parameter Code                    8752.0  4.420100e+04       0.000000   \n",
              "Method Code                           8395.0  8.373615e+01      10.950593   \n",
              "CBSA Code                             7800.0  3.029602e+04    7825.876741   \n",
              "State FIPS Code                       8752.0  2.700000e+01       0.000000   \n",
              "County FIPS Code                      8752.0  8.567527e+01      57.809381   \n",
              "Site Latitude                         8752.0  4.584137e+01       1.256128   \n",
              "Site Longitude                        8752.0 -9.335230e+01       1.096279   \n",
              "\n",
              "                                               min           25%  \\\n",
              "Site ID                               2.700310e+08  2.703532e+08   \n",
              "POC                                   1.000000e+00  1.000000e+00   \n",
              "Daily Max 8-hour Ozone Concentration  1.000000e-03  3.100000e-02   \n",
              "Daily AQI Value                       1.000000e+00  2.900000e+01   \n",
              "Daily Obs Count                       1.200000e+01  1.700000e+01   \n",
              "Percent Complete                      7.100000e+01  1.000000e+02   \n",
              "AQS Parameter Code                    4.420100e+04  4.420100e+04   \n",
              "Method Code                           4.700000e+01  8.700000e+01   \n",
              "CBSA Code                             1.466000e+04  2.026000e+04   \n",
              "State FIPS Code                       2.700000e+01  2.700000e+01   \n",
              "County FIPS Code                      3.000000e+00  3.500000e+01   \n",
              "Site Latitude                         4.399691e+01  4.496524e+01   \n",
              "Site Longitude                       -9.584627e+01 -9.375945e+01   \n",
              "\n",
              "                                               50%           75%           max  \n",
              "Site ID                               2.708342e+08  2.713776e+08  2.717132e+08  \n",
              "POC                                   1.000000e+00  1.000000e+00  1.000000e+00  \n",
              "Daily Max 8-hour Ozone Concentration  3.900000e-02  4.700000e-02  9.100000e-02  \n",
              "Daily AQI Value                       3.600000e+01  4.400000e+01  1.640000e+02  \n",
              "Daily Obs Count                       1.700000e+01  1.700000e+01  2.400000e+01  \n",
              "Percent Complete                      1.000000e+02  1.000000e+02  1.000000e+02  \n",
              "AQS Parameter Code                    4.420100e+04  4.420100e+04  4.420100e+04  \n",
              "Method Code                           8.700000e+01  8.700000e+01  8.700000e+01  \n",
              "CBSA Code                             3.346000e+04  3.346000e+04  4.106000e+04  \n",
              "State FIPS Code                       2.700000e+01  2.700000e+01  2.700000e+01  \n",
              "County FIPS Code                      8.300000e+01  1.370000e+02  1.710000e+02  \n",
              "Site Latitude                         4.540184e+01  4.681826e+01  4.841252e+01  \n",
              "Site Longitude                       -9.320761e+01 -9.276514e+01 -9.149557e+01  "
            ],
            "text/html": [
              "\n",
              "  <div id=\"df-9a99a363-4e3d-4fe5-93b9-c1f11aaf0fd6\" class=\"colab-df-container\">\n",
              "    <div>\n",
              "<style scoped>\n",
              "    .dataframe tbody tr th:only-of-type {\n",
              "        vertical-align: middle;\n",
              "    }\n",
              "\n",
              "    .dataframe tbody tr th {\n",
              "        vertical-align: top;\n",
              "    }\n",
              "\n",
              "    .dataframe thead th {\n",
              "        text-align: right;\n",
              "    }\n",
              "</style>\n",
              "<table border=\"1\" class=\"dataframe\">\n",
              "  <thead>\n",
              "    <tr style=\"text-align: right;\">\n",
              "      <th></th>\n",
              "      <th>count</th>\n",
              "      <th>mean</th>\n",
              "      <th>std</th>\n",
              "      <th>min</th>\n",
              "      <th>25%</th>\n",
              "      <th>50%</th>\n",
              "      <th>75%</th>\n",
              "      <th>max</th>\n",
              "    </tr>\n",
              "  </thead>\n",
              "  <tbody>\n",
              "    <tr>\n",
              "      <th>Site ID</th>\n",
              "      <td>8752.0</td>\n",
              "      <td>2.708598e+08</td>\n",
              "      <td>578494.082874</td>\n",
              "      <td>2.700310e+08</td>\n",
              "      <td>2.703532e+08</td>\n",
              "      <td>2.708342e+08</td>\n",
              "      <td>2.713776e+08</td>\n",
              "      <td>2.717132e+08</td>\n",
              "    </tr>\n",
              "    <tr>\n",
              "      <th>POC</th>\n",
              "      <td>8752.0</td>\n",
              "      <td>1.000000e+00</td>\n",
              "      <td>0.000000</td>\n",
              "      <td>1.000000e+00</td>\n",
              "      <td>1.000000e+00</td>\n",
              "      <td>1.000000e+00</td>\n",
              "      <td>1.000000e+00</td>\n",
              "      <td>1.000000e+00</td>\n",
              "    </tr>\n",
              "    <tr>\n",
              "      <th>Daily Max 8-hour Ozone Concentration</th>\n",
              "      <td>8752.0</td>\n",
              "      <td>3.952559e-02</td>\n",
              "      <td>0.011725</td>\n",
              "      <td>1.000000e-03</td>\n",
              "      <td>3.100000e-02</td>\n",
              "      <td>3.900000e-02</td>\n",
              "      <td>4.700000e-02</td>\n",
              "      <td>9.100000e-02</td>\n",
              "    </tr>\n",
              "    <tr>\n",
              "      <th>Daily AQI Value</th>\n",
              "      <td>8752.0</td>\n",
              "      <td>3.813654e+01</td>\n",
              "      <td>15.713866</td>\n",
              "      <td>1.000000e+00</td>\n",
              "      <td>2.900000e+01</td>\n",
              "      <td>3.600000e+01</td>\n",
              "      <td>4.400000e+01</td>\n",
              "      <td>1.640000e+02</td>\n",
              "    </tr>\n",
              "    <tr>\n",
              "      <th>Daily Obs Count</th>\n",
              "      <td>8752.0</td>\n",
              "      <td>1.724189e+01</td>\n",
              "      <td>1.375834</td>\n",
              "      <td>1.200000e+01</td>\n",
              "      <td>1.700000e+01</td>\n",
              "      <td>1.700000e+01</td>\n",
              "      <td>1.700000e+01</td>\n",
              "      <td>2.400000e+01</td>\n",
              "    </tr>\n",
              "    <tr>\n",
              "      <th>Percent Complete</th>\n",
              "      <td>8752.0</td>\n",
              "      <td>9.976725e+01</td>\n",
              "      <td>2.125717</td>\n",
              "      <td>7.100000e+01</td>\n",
              "      <td>1.000000e+02</td>\n",
              "      <td>1.000000e+02</td>\n",
              "      <td>1.000000e+02</td>\n",
              "      <td>1.000000e+02</td>\n",
              "    </tr>\n",
              "    <tr>\n",
              "      <th>AQS Parameter Code</th>\n",
              "      <td>8752.0</td>\n",
              "      <td>4.420100e+04</td>\n",
              "      <td>0.000000</td>\n",
              "      <td>4.420100e+04</td>\n",
              "      <td>4.420100e+04</td>\n",
              "      <td>4.420100e+04</td>\n",
              "      <td>4.420100e+04</td>\n",
              "      <td>4.420100e+04</td>\n",
              "    </tr>\n",
              "    <tr>\n",
              "      <th>Method Code</th>\n",
              "      <td>8395.0</td>\n",
              "      <td>8.373615e+01</td>\n",
              "      <td>10.950593</td>\n",
              "      <td>4.700000e+01</td>\n",
              "      <td>8.700000e+01</td>\n",
              "      <td>8.700000e+01</td>\n",
              "      <td>8.700000e+01</td>\n",
              "      <td>8.700000e+01</td>\n",
              "    </tr>\n",
              "    <tr>\n",
              "      <th>CBSA Code</th>\n",
              "      <td>7800.0</td>\n",
              "      <td>3.029602e+04</td>\n",
              "      <td>7825.876741</td>\n",
              "      <td>1.466000e+04</td>\n",
              "      <td>2.026000e+04</td>\n",
              "      <td>3.346000e+04</td>\n",
              "      <td>3.346000e+04</td>\n",
              "      <td>4.106000e+04</td>\n",
              "    </tr>\n",
              "    <tr>\n",
              "      <th>State FIPS Code</th>\n",
              "      <td>8752.0</td>\n",
              "      <td>2.700000e+01</td>\n",
              "      <td>0.000000</td>\n",
              "      <td>2.700000e+01</td>\n",
              "      <td>2.700000e+01</td>\n",
              "      <td>2.700000e+01</td>\n",
              "      <td>2.700000e+01</td>\n",
              "      <td>2.700000e+01</td>\n",
              "    </tr>\n",
              "    <tr>\n",
              "      <th>County FIPS Code</th>\n",
              "      <td>8752.0</td>\n",
              "      <td>8.567527e+01</td>\n",
              "      <td>57.809381</td>\n",
              "      <td>3.000000e+00</td>\n",
              "      <td>3.500000e+01</td>\n",
              "      <td>8.300000e+01</td>\n",
              "      <td>1.370000e+02</td>\n",
              "      <td>1.710000e+02</td>\n",
              "    </tr>\n",
              "    <tr>\n",
              "      <th>Site Latitude</th>\n",
              "      <td>8752.0</td>\n",
              "      <td>4.584137e+01</td>\n",
              "      <td>1.256128</td>\n",
              "      <td>4.399691e+01</td>\n",
              "      <td>4.496524e+01</td>\n",
              "      <td>4.540184e+01</td>\n",
              "      <td>4.681826e+01</td>\n",
              "      <td>4.841252e+01</td>\n",
              "    </tr>\n",
              "    <tr>\n",
              "      <th>Site Longitude</th>\n",
              "      <td>8752.0</td>\n",
              "      <td>-9.335230e+01</td>\n",
              "      <td>1.096279</td>\n",
              "      <td>-9.584627e+01</td>\n",
              "      <td>-9.375945e+01</td>\n",
              "      <td>-9.320761e+01</td>\n",
              "      <td>-9.276514e+01</td>\n",
              "      <td>-9.149557e+01</td>\n",
              "    </tr>\n",
              "  </tbody>\n",
              "</table>\n",
              "</div>\n",
              "    <div class=\"colab-df-buttons\">\n",
              "\n",
              "  <div class=\"colab-df-container\">\n",
              "    <button class=\"colab-df-convert\" onclick=\"convertToInteractive('df-9a99a363-4e3d-4fe5-93b9-c1f11aaf0fd6')\"\n",
              "            title=\"Convert this dataframe to an interactive table.\"\n",
              "            style=\"display:none;\">\n",
              "\n",
              "  <svg xmlns=\"http://www.w3.org/2000/svg\" height=\"24px\" viewBox=\"0 -960 960 960\">\n",
              "    <path d=\"M120-120v-720h720v720H120Zm60-500h600v-160H180v160Zm220 220h160v-160H400v160Zm0 220h160v-160H400v160ZM180-400h160v-160H180v160Zm440 0h160v-160H620v160ZM180-180h160v-160H180v160Zm440 0h160v-160H620v160Z\"/>\n",
              "  </svg>\n",
              "    </button>\n",
              "\n",
              "  <style>\n",
              "    .colab-df-container {\n",
              "      display:flex;\n",
              "      gap: 12px;\n",
              "    }\n",
              "\n",
              "    .colab-df-convert {\n",
              "      background-color: #E8F0FE;\n",
              "      border: none;\n",
              "      border-radius: 50%;\n",
              "      cursor: pointer;\n",
              "      display: none;\n",
              "      fill: #1967D2;\n",
              "      height: 32px;\n",
              "      padding: 0 0 0 0;\n",
              "      width: 32px;\n",
              "    }\n",
              "\n",
              "    .colab-df-convert:hover {\n",
              "      background-color: #E2EBFA;\n",
              "      box-shadow: 0px 1px 2px rgba(60, 64, 67, 0.3), 0px 1px 3px 1px rgba(60, 64, 67, 0.15);\n",
              "      fill: #174EA6;\n",
              "    }\n",
              "\n",
              "    .colab-df-buttons div {\n",
              "      margin-bottom: 4px;\n",
              "    }\n",
              "\n",
              "    [theme=dark] .colab-df-convert {\n",
              "      background-color: #3B4455;\n",
              "      fill: #D2E3FC;\n",
              "    }\n",
              "\n",
              "    [theme=dark] .colab-df-convert:hover {\n",
              "      background-color: #434B5C;\n",
              "      box-shadow: 0px 1px 3px 1px rgba(0, 0, 0, 0.15);\n",
              "      filter: drop-shadow(0px 1px 2px rgba(0, 0, 0, 0.3));\n",
              "      fill: #FFFFFF;\n",
              "    }\n",
              "  </style>\n",
              "\n",
              "    <script>\n",
              "      const buttonEl =\n",
              "        document.querySelector('#df-9a99a363-4e3d-4fe5-93b9-c1f11aaf0fd6 button.colab-df-convert');\n",
              "      buttonEl.style.display =\n",
              "        google.colab.kernel.accessAllowed ? 'block' : 'none';\n",
              "\n",
              "      async function convertToInteractive(key) {\n",
              "        const element = document.querySelector('#df-9a99a363-4e3d-4fe5-93b9-c1f11aaf0fd6');\n",
              "        const dataTable =\n",
              "          await google.colab.kernel.invokeFunction('convertToInteractive',\n",
              "                                                    [key], {});\n",
              "        if (!dataTable) return;\n",
              "\n",
              "        const docLinkHtml = 'Like what you see? Visit the ' +\n",
              "          '<a target=\"_blank\" href=https://colab.research.google.com/notebooks/data_table.ipynb>data table notebook</a>'\n",
              "          + ' to learn more about interactive tables.';\n",
              "        element.innerHTML = '';\n",
              "        dataTable['output_type'] = 'display_data';\n",
              "        await google.colab.output.renderOutput(dataTable, element);\n",
              "        const docLink = document.createElement('div');\n",
              "        docLink.innerHTML = docLinkHtml;\n",
              "        element.appendChild(docLink);\n",
              "      }\n",
              "    </script>\n",
              "  </div>\n",
              "\n",
              "\n",
              "<div id=\"df-bffa723c-f7b6-4583-a0a9-8e1fe9dcec2a\">\n",
              "  <button class=\"colab-df-quickchart\" onclick=\"quickchart('df-bffa723c-f7b6-4583-a0a9-8e1fe9dcec2a')\"\n",
              "            title=\"Suggest charts\"\n",
              "            style=\"display:none;\">\n",
              "\n",
              "<svg xmlns=\"http://www.w3.org/2000/svg\" height=\"24px\"viewBox=\"0 0 24 24\"\n",
              "     width=\"24px\">\n",
              "    <g>\n",
              "        <path d=\"M19 3H5c-1.1 0-2 .9-2 2v14c0 1.1.9 2 2 2h14c1.1 0 2-.9 2-2V5c0-1.1-.9-2-2-2zM9 17H7v-7h2v7zm4 0h-2V7h2v10zm4 0h-2v-4h2v4z\"/>\n",
              "    </g>\n",
              "</svg>\n",
              "  </button>\n",
              "\n",
              "<style>\n",
              "  .colab-df-quickchart {\n",
              "      --bg-color: #E8F0FE;\n",
              "      --fill-color: #1967D2;\n",
              "      --hover-bg-color: #E2EBFA;\n",
              "      --hover-fill-color: #174EA6;\n",
              "      --disabled-fill-color: #AAA;\n",
              "      --disabled-bg-color: #DDD;\n",
              "  }\n",
              "\n",
              "  [theme=dark] .colab-df-quickchart {\n",
              "      --bg-color: #3B4455;\n",
              "      --fill-color: #D2E3FC;\n",
              "      --hover-bg-color: #434B5C;\n",
              "      --hover-fill-color: #FFFFFF;\n",
              "      --disabled-bg-color: #3B4455;\n",
              "      --disabled-fill-color: #666;\n",
              "  }\n",
              "\n",
              "  .colab-df-quickchart {\n",
              "    background-color: var(--bg-color);\n",
              "    border: none;\n",
              "    border-radius: 50%;\n",
              "    cursor: pointer;\n",
              "    display: none;\n",
              "    fill: var(--fill-color);\n",
              "    height: 32px;\n",
              "    padding: 0;\n",
              "    width: 32px;\n",
              "  }\n",
              "\n",
              "  .colab-df-quickchart:hover {\n",
              "    background-color: var(--hover-bg-color);\n",
              "    box-shadow: 0 1px 2px rgba(60, 64, 67, 0.3), 0 1px 3px 1px rgba(60, 64, 67, 0.15);\n",
              "    fill: var(--button-hover-fill-color);\n",
              "  }\n",
              "\n",
              "  .colab-df-quickchart-complete:disabled,\n",
              "  .colab-df-quickchart-complete:disabled:hover {\n",
              "    background-color: var(--disabled-bg-color);\n",
              "    fill: var(--disabled-fill-color);\n",
              "    box-shadow: none;\n",
              "  }\n",
              "\n",
              "  .colab-df-spinner {\n",
              "    border: 2px solid var(--fill-color);\n",
              "    border-color: transparent;\n",
              "    border-bottom-color: var(--fill-color);\n",
              "    animation:\n",
              "      spin 1s steps(1) infinite;\n",
              "  }\n",
              "\n",
              "  @keyframes spin {\n",
              "    0% {\n",
              "      border-color: transparent;\n",
              "      border-bottom-color: var(--fill-color);\n",
              "      border-left-color: var(--fill-color);\n",
              "    }\n",
              "    20% {\n",
              "      border-color: transparent;\n",
              "      border-left-color: var(--fill-color);\n",
              "      border-top-color: var(--fill-color);\n",
              "    }\n",
              "    30% {\n",
              "      border-color: transparent;\n",
              "      border-left-color: var(--fill-color);\n",
              "      border-top-color: var(--fill-color);\n",
              "      border-right-color: var(--fill-color);\n",
              "    }\n",
              "    40% {\n",
              "      border-color: transparent;\n",
              "      border-right-color: var(--fill-color);\n",
              "      border-top-color: var(--fill-color);\n",
              "    }\n",
              "    60% {\n",
              "      border-color: transparent;\n",
              "      border-right-color: var(--fill-color);\n",
              "    }\n",
              "    80% {\n",
              "      border-color: transparent;\n",
              "      border-right-color: var(--fill-color);\n",
              "      border-bottom-color: var(--fill-color);\n",
              "    }\n",
              "    90% {\n",
              "      border-color: transparent;\n",
              "      border-bottom-color: var(--fill-color);\n",
              "    }\n",
              "  }\n",
              "</style>\n",
              "\n",
              "  <script>\n",
              "    async function quickchart(key) {\n",
              "      const quickchartButtonEl =\n",
              "        document.querySelector('#' + key + ' button');\n",
              "      quickchartButtonEl.disabled = true;  // To prevent multiple clicks.\n",
              "      quickchartButtonEl.classList.add('colab-df-spinner');\n",
              "      try {\n",
              "        const charts = await google.colab.kernel.invokeFunction(\n",
              "            'suggestCharts', [key], {});\n",
              "      } catch (error) {\n",
              "        console.error('Error during call to suggestCharts:', error);\n",
              "      }\n",
              "      quickchartButtonEl.classList.remove('colab-df-spinner');\n",
              "      quickchartButtonEl.classList.add('colab-df-quickchart-complete');\n",
              "    }\n",
              "    (() => {\n",
              "      let quickchartButtonEl =\n",
              "        document.querySelector('#df-bffa723c-f7b6-4583-a0a9-8e1fe9dcec2a button');\n",
              "      quickchartButtonEl.style.display =\n",
              "        google.colab.kernel.accessAllowed ? 'block' : 'none';\n",
              "    })();\n",
              "  </script>\n",
              "</div>\n",
              "\n",
              "    </div>\n",
              "  </div>\n"
            ],
            "application/vnd.google.colaboratory.intrinsic+json": {
              "type": "dataframe",
              "summary": "{\n  \"name\": \"data\",\n  \"rows\": 13,\n  \"fields\": [\n    {\n      \"column\": \"count\",\n      \"properties\": {\n        \"dtype\": \"number\",\n        \"std\": 274.1573102604247,\n        \"min\": 7800.0,\n        \"max\": 8752.0,\n        \"num_unique_values\": 3,\n        \"samples\": [\n          8752.0,\n          8395.0,\n          7800.0\n        ],\n        \"semantic_type\": \"\",\n        \"description\": \"\"\n      }\n    },\n    {\n      \"column\": \"mean\",\n      \"properties\": {\n        \"dtype\": \"number\",\n        \"std\": 75121261.47242333,\n        \"min\": -93.35230084923622,\n        \"max\": 270859788.81489944,\n        \"num_unique_values\": 13,\n        \"samples\": [\n          45.84136673605011,\n          27.0,\n          270859788.81489944\n        ],\n        \"semantic_type\": \"\",\n        \"description\": \"\"\n      }\n    },\n    {\n      \"column\": \"std\",\n      \"properties\": {\n        \"dtype\": \"number\",\n        \"std\": 160276.99254399666,\n        \"min\": 0.0,\n        \"max\": 578494.0828744632,\n        \"num_unique_values\": 11,\n        \"samples\": [\n          2.1257167153115786,\n          578494.0828744632,\n          1.2561280326403392\n        ],\n        \"semantic_type\": \"\",\n        \"description\": \"\"\n      }\n    },\n    {\n      \"column\": \"min\",\n      \"properties\": {\n        \"dtype\": \"number\",\n        \"std\": 74891762.69489484,\n        \"min\": -95.846272,\n        \"max\": 270031001.0,\n        \"num_unique_values\": 12,\n        \"samples\": [\n          43.996908,\n          3.0,\n          270031001.0\n        ],\n        \"semantic_type\": \"\",\n        \"description\": \"\"\n      }\n    },\n    {\n      \"column\": \"25%\",\n      \"properties\": {\n        \"dtype\": \"number\",\n        \"std\": 74980993.20470148,\n        \"min\": -93.75945,\n        \"max\": 270353204.0,\n        \"num_unique_values\": 13,\n        \"samples\": [\n          44.9652420009432,\n          27.0,\n          270353204.0\n        ],\n        \"semantic_type\": \"\",\n        \"description\": \"\"\n      }\n    },\n    {\n      \"column\": \"50%\",\n      \"properties\": {\n        \"dtype\": \"number\",\n        \"std\": 75114094.19060992,\n        \"min\": -93.207614975211,\n        \"max\": 270834210.0,\n        \"num_unique_values\": 13,\n        \"samples\": [\n          45.4018400009431,\n          27.0,\n          270834210.0\n        ],\n        \"semantic_type\": \"\",\n        \"description\": \"\"\n      }\n    },\n    {\n      \"column\": \"75%\",\n      \"properties\": {\n        \"dtype\": \"number\",\n        \"std\": 75264788.11349076,\n        \"min\": -92.765136,\n        \"max\": 271377550.0,\n        \"num_unique_values\": 13,\n        \"samples\": [\n          46.8182600009412,\n          27.0,\n          271377550.0\n        ],\n        \"semantic_type\": \"\",\n        \"description\": \"\"\n      }\n    },\n    {\n      \"column\": \"max\",\n      \"properties\": {\n        \"dtype\": \"number\",\n        \"std\": 75357701.76070006,\n        \"min\": -91.495574,\n        \"max\": 271713201.0,\n        \"num_unique_values\": 13,\n        \"samples\": [\n          48.41252,\n          27.0,\n          271713201.0\n        ],\n        \"semantic_type\": \"\",\n        \"description\": \"\"\n      }\n    }\n  ]\n}"
            }
          },
          "metadata": {},
          "execution_count": 243
        }
      ]
    },
    {
      "cell_type": "markdown",
      "source": [
        "### **D. Reconocimiento de Valores Nulos**"
      ],
      "metadata": {
        "id": "A20GM--5sHMx"
      }
    },
    {
      "cell_type": "code",
      "source": [
        "print(\"Conteo de valores nulos:\") # Impresión de valores nulos\n",
        "print(data.isnull().sum().sort_values(ascending=False)) # Impresión de valores nulos"
      ],
      "metadata": {
        "colab": {
          "base_uri": "https://localhost:8080/"
        },
        "id": "SIlQ27SlsK1t",
        "outputId": "f33c1a15-e26a-4a39-862f-57ece83105fd"
      },
      "execution_count": 244,
      "outputs": [
        {
          "output_type": "stream",
          "name": "stdout",
          "text": [
            "Conteo de valores nulos:\n",
            "CBSA Name                               952\n",
            "CBSA Code                               952\n",
            "Method Code                             357\n",
            "Date                                      0\n",
            "AQS Parameter Description                 0\n",
            "Site Latitude                             0\n",
            "County                                    0\n",
            "County FIPS Code                          0\n",
            "State                                     0\n",
            "State FIPS Code                           0\n",
            "AQS Parameter Code                        0\n",
            "Source                                    0\n",
            "Percent Complete                          0\n",
            "Daily Obs Count                           0\n",
            "Local Site Name                           0\n",
            "Daily AQI Value                           0\n",
            "Units                                     0\n",
            "Daily Max 8-hour Ozone Concentration      0\n",
            "POC                                       0\n",
            "Site ID                                   0\n",
            "Site Longitude                            0\n",
            "dtype: int64\n"
          ]
        }
      ]
    },
    {
      "cell_type": "markdown",
      "source": [
        "## **III. Preprocesamiento de los Datos**"
      ],
      "metadata": {
        "id": "yYAjE4TPsN3l"
      }
    },
    {
      "cell_type": "markdown",
      "source": [
        "### **A. Tratamiento de Valores Nulos**"
      ],
      "metadata": {
        "id": "uOQdSG0wsSPb"
      }
    },
    {
      "cell_type": "code",
      "source": [
        "data_orig = data.copy() # Copia de los datos originales"
      ],
      "metadata": {
        "id": "NTkUm02CsS0w"
      },
      "execution_count": 245,
      "outputs": []
    },
    {
      "cell_type": "code",
      "source": [
        "# Tratamiento de valores faltantes / nulos en el dataframe\n",
        "\n",
        "# Rellenar los valores nulos en la columna 'CBSA Name' con el texto 'Unknown'\n",
        "data['CBSA Name'].fillna('Unknown', inplace=True)\n",
        "\n",
        "# Rellenar los valores nulos en la columna 'CBSA Code' con el valor más frecuente (moda) de esa columna\n",
        "data['CBSA Code'].fillna(data['CBSA Code'].mode()[0], inplace=True)\n",
        "\n",
        "# Rellenar los valores nulos en la columna 'Method Code' con el valor más frecuente (moda) de esa columna\n",
        "data['Method Code'].fillna(data['Method Code'].mode()[0], inplace=True)\n",
        "\n",
        "# Eliminar cualquier fila que todavía contenga valores nulos después de los rellenos anteriores\n",
        "data.dropna(inplace=True)\n",
        "\n",
        "# Imprimir el conteo de valores nulos restantes en el dataframe para verificar que no queden\n",
        "print(\"Conteo de valores nulos:\")\n",
        "print(data.isna().sum())"
      ],
      "metadata": {
        "colab": {
          "base_uri": "https://localhost:8080/"
        },
        "id": "WFNt-RCMxyjN",
        "outputId": "f870d57f-4768-4ca1-a059-be40a40fbf21"
      },
      "execution_count": 246,
      "outputs": [
        {
          "output_type": "stream",
          "name": "stdout",
          "text": [
            "Conteo de valores nulos:\n",
            "Date                                    0\n",
            "Source                                  0\n",
            "Site ID                                 0\n",
            "POC                                     0\n",
            "Daily Max 8-hour Ozone Concentration    0\n",
            "Units                                   0\n",
            "Daily AQI Value                         0\n",
            "Local Site Name                         0\n",
            "Daily Obs Count                         0\n",
            "Percent Complete                        0\n",
            "AQS Parameter Code                      0\n",
            "AQS Parameter Description               0\n",
            "Method Code                             0\n",
            "CBSA Code                               0\n",
            "CBSA Name                               0\n",
            "State FIPS Code                         0\n",
            "State                                   0\n",
            "County FIPS Code                        0\n",
            "County                                  0\n",
            "Site Latitude                           0\n",
            "Site Longitude                          0\n",
            "dtype: int64\n"
          ]
        }
      ]
    },
    {
      "cell_type": "markdown",
      "source": [
        "### **B. Tratamiento de Valores Únicos**"
      ],
      "metadata": {
        "id": "Oog2syLusTRE"
      }
    },
    {
      "cell_type": "code",
      "source": [
        "print(\"Número de valores únicos en cada columna:\\n\")\n",
        "\n",
        "for col in data.columns:  # Recorrido de columnas\n",
        "    unique_count = data[col].nunique()  # Contar valores únicos en la columna\n",
        "    print(f\"Columna {col}: {unique_count} valores únicos\")"
      ],
      "metadata": {
        "colab": {
          "base_uri": "https://localhost:8080/"
        },
        "id": "HcHeF9QKzivi",
        "outputId": "c9b7f5fd-ebb7-453b-a9da-752a707b55fa"
      },
      "execution_count": 247,
      "outputs": [
        {
          "output_type": "stream",
          "name": "stdout",
          "text": [
            "Número de valores únicos en cada columna:\n",
            "\n",
            "Columna Date: 729 valores únicos\n",
            "Columna Source: 2 valores únicos\n",
            "Columna Site ID: 17 valores únicos\n",
            "Columna POC: 1 valores únicos\n",
            "Columna Daily Max 8-hour Ozone Concentration: 88 valores únicos\n",
            "Columna Units: 1 valores únicos\n",
            "Columna Daily AQI Value: 84 valores únicos\n",
            "Columna Local Site Name: 17 valores únicos\n",
            "Columna Daily Obs Count: 12 valores únicos\n",
            "Columna Percent Complete: 10 valores únicos\n",
            "Columna AQS Parameter Code: 1 valores únicos\n",
            "Columna AQS Parameter Description: 1 valores únicos\n",
            "Columna Method Code: 2 valores únicos\n",
            "Columna CBSA Code: 7 valores únicos\n",
            "Columna CBSA Name: 8 valores únicos\n",
            "Columna State FIPS Code: 1 valores únicos\n",
            "Columna State: 1 valores únicos\n",
            "Columna County FIPS Code: 15 valores únicos\n",
            "Columna County: 15 valores únicos\n",
            "Columna Site Latitude: 17 valores únicos\n",
            "Columna Site Longitude: 17 valores únicos\n"
          ]
        }
      ]
    },
    {
      "cell_type": "markdown",
      "source": [
        "### **C. Eliminación de Variables Redundantes**"
      ],
      "metadata": {
        "id": "Tm6vv10TsfRg"
      }
    },
    {
      "cell_type": "markdown",
      "source": [
        "<p align=\"justify\">Eliminamos las columnas 'Site ID', 'Method Code', 'CBSA Code', 'State FIPS Code' y 'County FIPS Code' porque contienen información redundante o no relevante para el análisis actual, como identificadores únicos o códigos que pueden ser reemplazados por nombres de lugares o coordenadas geográficas.</p>"
      ],
      "metadata": {
        "id": "39gsyJGn4CUC"
      }
    },
    {
      "cell_type": "code",
      "source": [
        "data.drop(columns=['Site ID', 'Method Code', 'CBSA Code', 'State FIPS Code', 'County FIPS Code'], inplace=True) # Eliminación de columnas"
      ],
      "metadata": {
        "id": "mzYBNDYWsfpf"
      },
      "execution_count": 248,
      "outputs": []
    },
    {
      "cell_type": "markdown",
      "source": [
        "<p align=\"justify\">Eliminamos las columnas 'Source', 'POC', 'Units', 'AQS Parameter Code' y 'AQS Parameter Description' porque contienen información que puede no ser necesaria para el análisis, como la fuente de los datos, códigos y descripciones de parámetros que no contribuyen directamente a la evaluación de la calidad del aire o a otros análisis posteriores.\n",
        "</p>"
      ],
      "metadata": {
        "id": "ixsVC99S5dLK"
      }
    },
    {
      "cell_type": "code",
      "source": [
        "data.drop(columns=['Source', 'POC', 'Units', 'AQS Parameter Code', 'AQS Parameter Description'], inplace=True) # Eliminación de columnas"
      ],
      "metadata": {
        "id": "DZOGVTQ_5eYj"
      },
      "execution_count": 249,
      "outputs": []
    },
    {
      "cell_type": "markdown",
      "source": [
        "<p align=\"justify\">Eliminamos las columnas 'Local Site Name', 'CBSA Name', 'State' y 'County' porque la información de ubicación puede estar suficientemente representada por las coordenadas geográficas (latitud y longitud), y los nombres de los sitios, áreas metropolitanas, estados y condados pueden no ser necesarios si ya se tienen los datos geográficos relevantes.\n",
        "</p>"
      ],
      "metadata": {
        "id": "RoQe2JsO7koK"
      }
    },
    {
      "cell_type": "code",
      "source": [
        "data.drop(columns=['Local Site Name', 'CBSA Name', 'State', 'County'], inplace=True) # Eliminación de columnas"
      ],
      "metadata": {
        "id": "BaWEPaz07ng0"
      },
      "execution_count": 250,
      "outputs": []
    },
    {
      "cell_type": "markdown",
      "source": [
        "<p align=\"justify\">Eliminamos las columnas 'Site Longitude' y 'Site Latitude' porque al no necesitar un análisis geoespacial detallado, las coordenadas geográficas pueden ser irrelevantes para el análisis actual.</p>"
      ],
      "metadata": {
        "id": "1SGuOk4SEEpC"
      }
    },
    {
      "cell_type": "code",
      "source": [
        "data.drop(columns=['Site Longitude', 'Site Latitude'], inplace=True) # Eliminación de columnas"
      ],
      "metadata": {
        "id": "wtTywpKPENMM"
      },
      "execution_count": 251,
      "outputs": []
    },
    {
      "cell_type": "markdown",
      "source": [
        "### **D. Tratamiento del Formato de Fecha**"
      ],
      "metadata": {
        "id": "bXaQX_-GG4Z0"
      }
    },
    {
      "cell_type": "markdown",
      "source": [
        "<p align=\"justify\">Realizamos la conversión de la columna Date a un tipo de dato datetime utilizando el formato mixed, lo que permite interpretar fechas que pueden estar en distintos formatos.</p>"
      ],
      "metadata": {
        "id": "nMJuMBcjByA_"
      }
    },
    {
      "cell_type": "code",
      "source": [
        "data[\"Date\"] = pd.to_datetime(data['Date'], format=\"mixed\") # Conversión de formato de fecha\n",
        "\n",
        "# data['Year'] = data['Date'].dt.year\n",
        "# data['Month'] = data['Date'].dt.month\n",
        "# data['Day'] = data['Date'].dt.day"
      ],
      "metadata": {
        "id": "ImwIrx-h6vKg"
      },
      "execution_count": 252,
      "outputs": []
    },
    {
      "cell_type": "markdown",
      "source": [
        "<p align=\"justify\">Ordenamos el DataFrame 'data' en función de la columna 'Date' en orden ascendente, de manera que las fechas más antiguas aparezcan primero y las más recientes al final.</p>\n",
        "\n",
        "<p align=\"justify\">También reiniciamos los índices del DataFrame después de ordenarlo para que el índice sea secuencial y comience desde 0.</p>\n"
      ],
      "metadata": {
        "id": "nd1-2RcRHFCl"
      }
    },
    {
      "cell_type": "code",
      "source": [
        "data.sort_values(by='Date', ascending=True, inplace=True) # Ordenamiento de datos\n",
        "data.reset_index(drop=True, inplace=True) # Reinicio de índices\n",
        "data.head(3) # Vista previa de los datos"
      ],
      "metadata": {
        "colab": {
          "base_uri": "https://localhost:8080/",
          "height": 143
        },
        "id": "EUZi9ZvjFiTV",
        "outputId": "4961a4cb-0aac-4a1d-f77a-d152d3f21e4e"
      },
      "execution_count": 253,
      "outputs": [
        {
          "output_type": "execute_result",
          "data": {
            "text/plain": [
              "        Date  Daily Max 8-hour Ozone Concentration  Daily AQI Value  \\\n",
              "0 2022-01-01                                 0.028               26   \n",
              "1 2022-01-01                                 0.030               28   \n",
              "2 2022-01-01                                 0.029               27   \n",
              "\n",
              "   Daily Obs Count  Percent Complete  \n",
              "0               17             100.0  \n",
              "1               17             100.0  \n",
              "2               17             100.0  "
            ],
            "text/html": [
              "\n",
              "  <div id=\"df-3aeb6c8e-a240-435b-978a-3db4246d199e\" class=\"colab-df-container\">\n",
              "    <div>\n",
              "<style scoped>\n",
              "    .dataframe tbody tr th:only-of-type {\n",
              "        vertical-align: middle;\n",
              "    }\n",
              "\n",
              "    .dataframe tbody tr th {\n",
              "        vertical-align: top;\n",
              "    }\n",
              "\n",
              "    .dataframe thead th {\n",
              "        text-align: right;\n",
              "    }\n",
              "</style>\n",
              "<table border=\"1\" class=\"dataframe\">\n",
              "  <thead>\n",
              "    <tr style=\"text-align: right;\">\n",
              "      <th></th>\n",
              "      <th>Date</th>\n",
              "      <th>Daily Max 8-hour Ozone Concentration</th>\n",
              "      <th>Daily AQI Value</th>\n",
              "      <th>Daily Obs Count</th>\n",
              "      <th>Percent Complete</th>\n",
              "    </tr>\n",
              "  </thead>\n",
              "  <tbody>\n",
              "    <tr>\n",
              "      <th>0</th>\n",
              "      <td>2022-01-01</td>\n",
              "      <td>0.028</td>\n",
              "      <td>26</td>\n",
              "      <td>17</td>\n",
              "      <td>100.0</td>\n",
              "    </tr>\n",
              "    <tr>\n",
              "      <th>1</th>\n",
              "      <td>2022-01-01</td>\n",
              "      <td>0.030</td>\n",
              "      <td>28</td>\n",
              "      <td>17</td>\n",
              "      <td>100.0</td>\n",
              "    </tr>\n",
              "    <tr>\n",
              "      <th>2</th>\n",
              "      <td>2022-01-01</td>\n",
              "      <td>0.029</td>\n",
              "      <td>27</td>\n",
              "      <td>17</td>\n",
              "      <td>100.0</td>\n",
              "    </tr>\n",
              "  </tbody>\n",
              "</table>\n",
              "</div>\n",
              "    <div class=\"colab-df-buttons\">\n",
              "\n",
              "  <div class=\"colab-df-container\">\n",
              "    <button class=\"colab-df-convert\" onclick=\"convertToInteractive('df-3aeb6c8e-a240-435b-978a-3db4246d199e')\"\n",
              "            title=\"Convert this dataframe to an interactive table.\"\n",
              "            style=\"display:none;\">\n",
              "\n",
              "  <svg xmlns=\"http://www.w3.org/2000/svg\" height=\"24px\" viewBox=\"0 -960 960 960\">\n",
              "    <path d=\"M120-120v-720h720v720H120Zm60-500h600v-160H180v160Zm220 220h160v-160H400v160Zm0 220h160v-160H400v160ZM180-400h160v-160H180v160Zm440 0h160v-160H620v160ZM180-180h160v-160H180v160Zm440 0h160v-160H620v160Z\"/>\n",
              "  </svg>\n",
              "    </button>\n",
              "\n",
              "  <style>\n",
              "    .colab-df-container {\n",
              "      display:flex;\n",
              "      gap: 12px;\n",
              "    }\n",
              "\n",
              "    .colab-df-convert {\n",
              "      background-color: #E8F0FE;\n",
              "      border: none;\n",
              "      border-radius: 50%;\n",
              "      cursor: pointer;\n",
              "      display: none;\n",
              "      fill: #1967D2;\n",
              "      height: 32px;\n",
              "      padding: 0 0 0 0;\n",
              "      width: 32px;\n",
              "    }\n",
              "\n",
              "    .colab-df-convert:hover {\n",
              "      background-color: #E2EBFA;\n",
              "      box-shadow: 0px 1px 2px rgba(60, 64, 67, 0.3), 0px 1px 3px 1px rgba(60, 64, 67, 0.15);\n",
              "      fill: #174EA6;\n",
              "    }\n",
              "\n",
              "    .colab-df-buttons div {\n",
              "      margin-bottom: 4px;\n",
              "    }\n",
              "\n",
              "    [theme=dark] .colab-df-convert {\n",
              "      background-color: #3B4455;\n",
              "      fill: #D2E3FC;\n",
              "    }\n",
              "\n",
              "    [theme=dark] .colab-df-convert:hover {\n",
              "      background-color: #434B5C;\n",
              "      box-shadow: 0px 1px 3px 1px rgba(0, 0, 0, 0.15);\n",
              "      filter: drop-shadow(0px 1px 2px rgba(0, 0, 0, 0.3));\n",
              "      fill: #FFFFFF;\n",
              "    }\n",
              "  </style>\n",
              "\n",
              "    <script>\n",
              "      const buttonEl =\n",
              "        document.querySelector('#df-3aeb6c8e-a240-435b-978a-3db4246d199e button.colab-df-convert');\n",
              "      buttonEl.style.display =\n",
              "        google.colab.kernel.accessAllowed ? 'block' : 'none';\n",
              "\n",
              "      async function convertToInteractive(key) {\n",
              "        const element = document.querySelector('#df-3aeb6c8e-a240-435b-978a-3db4246d199e');\n",
              "        const dataTable =\n",
              "          await google.colab.kernel.invokeFunction('convertToInteractive',\n",
              "                                                    [key], {});\n",
              "        if (!dataTable) return;\n",
              "\n",
              "        const docLinkHtml = 'Like what you see? Visit the ' +\n",
              "          '<a target=\"_blank\" href=https://colab.research.google.com/notebooks/data_table.ipynb>data table notebook</a>'\n",
              "          + ' to learn more about interactive tables.';\n",
              "        element.innerHTML = '';\n",
              "        dataTable['output_type'] = 'display_data';\n",
              "        await google.colab.output.renderOutput(dataTable, element);\n",
              "        const docLink = document.createElement('div');\n",
              "        docLink.innerHTML = docLinkHtml;\n",
              "        element.appendChild(docLink);\n",
              "      }\n",
              "    </script>\n",
              "  </div>\n",
              "\n",
              "\n",
              "<div id=\"df-3361078f-b621-4088-a293-702517c50799\">\n",
              "  <button class=\"colab-df-quickchart\" onclick=\"quickchart('df-3361078f-b621-4088-a293-702517c50799')\"\n",
              "            title=\"Suggest charts\"\n",
              "            style=\"display:none;\">\n",
              "\n",
              "<svg xmlns=\"http://www.w3.org/2000/svg\" height=\"24px\"viewBox=\"0 0 24 24\"\n",
              "     width=\"24px\">\n",
              "    <g>\n",
              "        <path d=\"M19 3H5c-1.1 0-2 .9-2 2v14c0 1.1.9 2 2 2h14c1.1 0 2-.9 2-2V5c0-1.1-.9-2-2-2zM9 17H7v-7h2v7zm4 0h-2V7h2v10zm4 0h-2v-4h2v4z\"/>\n",
              "    </g>\n",
              "</svg>\n",
              "  </button>\n",
              "\n",
              "<style>\n",
              "  .colab-df-quickchart {\n",
              "      --bg-color: #E8F0FE;\n",
              "      --fill-color: #1967D2;\n",
              "      --hover-bg-color: #E2EBFA;\n",
              "      --hover-fill-color: #174EA6;\n",
              "      --disabled-fill-color: #AAA;\n",
              "      --disabled-bg-color: #DDD;\n",
              "  }\n",
              "\n",
              "  [theme=dark] .colab-df-quickchart {\n",
              "      --bg-color: #3B4455;\n",
              "      --fill-color: #D2E3FC;\n",
              "      --hover-bg-color: #434B5C;\n",
              "      --hover-fill-color: #FFFFFF;\n",
              "      --disabled-bg-color: #3B4455;\n",
              "      --disabled-fill-color: #666;\n",
              "  }\n",
              "\n",
              "  .colab-df-quickchart {\n",
              "    background-color: var(--bg-color);\n",
              "    border: none;\n",
              "    border-radius: 50%;\n",
              "    cursor: pointer;\n",
              "    display: none;\n",
              "    fill: var(--fill-color);\n",
              "    height: 32px;\n",
              "    padding: 0;\n",
              "    width: 32px;\n",
              "  }\n",
              "\n",
              "  .colab-df-quickchart:hover {\n",
              "    background-color: var(--hover-bg-color);\n",
              "    box-shadow: 0 1px 2px rgba(60, 64, 67, 0.3), 0 1px 3px 1px rgba(60, 64, 67, 0.15);\n",
              "    fill: var(--button-hover-fill-color);\n",
              "  }\n",
              "\n",
              "  .colab-df-quickchart-complete:disabled,\n",
              "  .colab-df-quickchart-complete:disabled:hover {\n",
              "    background-color: var(--disabled-bg-color);\n",
              "    fill: var(--disabled-fill-color);\n",
              "    box-shadow: none;\n",
              "  }\n",
              "\n",
              "  .colab-df-spinner {\n",
              "    border: 2px solid var(--fill-color);\n",
              "    border-color: transparent;\n",
              "    border-bottom-color: var(--fill-color);\n",
              "    animation:\n",
              "      spin 1s steps(1) infinite;\n",
              "  }\n",
              "\n",
              "  @keyframes spin {\n",
              "    0% {\n",
              "      border-color: transparent;\n",
              "      border-bottom-color: var(--fill-color);\n",
              "      border-left-color: var(--fill-color);\n",
              "    }\n",
              "    20% {\n",
              "      border-color: transparent;\n",
              "      border-left-color: var(--fill-color);\n",
              "      border-top-color: var(--fill-color);\n",
              "    }\n",
              "    30% {\n",
              "      border-color: transparent;\n",
              "      border-left-color: var(--fill-color);\n",
              "      border-top-color: var(--fill-color);\n",
              "      border-right-color: var(--fill-color);\n",
              "    }\n",
              "    40% {\n",
              "      border-color: transparent;\n",
              "      border-right-color: var(--fill-color);\n",
              "      border-top-color: var(--fill-color);\n",
              "    }\n",
              "    60% {\n",
              "      border-color: transparent;\n",
              "      border-right-color: var(--fill-color);\n",
              "    }\n",
              "    80% {\n",
              "      border-color: transparent;\n",
              "      border-right-color: var(--fill-color);\n",
              "      border-bottom-color: var(--fill-color);\n",
              "    }\n",
              "    90% {\n",
              "      border-color: transparent;\n",
              "      border-bottom-color: var(--fill-color);\n",
              "    }\n",
              "  }\n",
              "</style>\n",
              "\n",
              "  <script>\n",
              "    async function quickchart(key) {\n",
              "      const quickchartButtonEl =\n",
              "        document.querySelector('#' + key + ' button');\n",
              "      quickchartButtonEl.disabled = true;  // To prevent multiple clicks.\n",
              "      quickchartButtonEl.classList.add('colab-df-spinner');\n",
              "      try {\n",
              "        const charts = await google.colab.kernel.invokeFunction(\n",
              "            'suggestCharts', [key], {});\n",
              "      } catch (error) {\n",
              "        console.error('Error during call to suggestCharts:', error);\n",
              "      }\n",
              "      quickchartButtonEl.classList.remove('colab-df-spinner');\n",
              "      quickchartButtonEl.classList.add('colab-df-quickchart-complete');\n",
              "    }\n",
              "    (() => {\n",
              "      let quickchartButtonEl =\n",
              "        document.querySelector('#df-3361078f-b621-4088-a293-702517c50799 button');\n",
              "      quickchartButtonEl.style.display =\n",
              "        google.colab.kernel.accessAllowed ? 'block' : 'none';\n",
              "    })();\n",
              "  </script>\n",
              "</div>\n",
              "\n",
              "    </div>\n",
              "  </div>\n"
            ],
            "application/vnd.google.colaboratory.intrinsic+json": {
              "type": "dataframe",
              "variable_name": "data",
              "summary": "{\n  \"name\": \"data\",\n  \"rows\": 8752,\n  \"fields\": [\n    {\n      \"column\": \"Date\",\n      \"properties\": {\n        \"dtype\": \"date\",\n        \"min\": \"2022-01-01 00:00:00\",\n        \"max\": \"2023-12-31 00:00:00\",\n        \"num_unique_values\": 729,\n        \"samples\": [\n          \"2023-04-15 00:00:00\",\n          \"2022-05-29 00:00:00\",\n          \"2022-10-30 00:00:00\"\n        ],\n        \"semantic_type\": \"\",\n        \"description\": \"\"\n      }\n    },\n    {\n      \"column\": \"Daily Max 8-hour Ozone Concentration\",\n      \"properties\": {\n        \"dtype\": \"number\",\n        \"std\": 0.011725102686738428,\n        \"min\": 0.001,\n        \"max\": 0.091,\n        \"num_unique_values\": 88,\n        \"samples\": [\n          0.088,\n          0.028,\n          0.052\n        ],\n        \"semantic_type\": \"\",\n        \"description\": \"\"\n      }\n    },\n    {\n      \"column\": \"Daily AQI Value\",\n      \"properties\": {\n        \"dtype\": \"number\",\n        \"std\": 15,\n        \"min\": 1,\n        \"max\": 164,\n        \"num_unique_values\": 84,\n        \"samples\": [\n          156,\n          26,\n          97\n        ],\n        \"semantic_type\": \"\",\n        \"description\": \"\"\n      }\n    },\n    {\n      \"column\": \"Daily Obs Count\",\n      \"properties\": {\n        \"dtype\": \"number\",\n        \"std\": 1,\n        \"min\": 12,\n        \"max\": 24,\n        \"num_unique_values\": 12,\n        \"samples\": [\n          23,\n          21,\n          17\n        ],\n        \"semantic_type\": \"\",\n        \"description\": \"\"\n      }\n    },\n    {\n      \"column\": \"Percent Complete\",\n      \"properties\": {\n        \"dtype\": \"number\",\n        \"std\": 2.125716715311578,\n        \"min\": 71.0,\n        \"max\": 100.0,\n        \"num_unique_values\": 10,\n        \"samples\": [\n          96.0,\n          82.0,\n          79.0\n        ],\n        \"semantic_type\": \"\",\n        \"description\": \"\"\n      }\n    }\n  ]\n}"
            }
          },
          "metadata": {},
          "execution_count": 253
        }
      ]
    },
    {
      "cell_type": "code",
      "source": [
        "data.shape # Dimensiones de los datos"
      ],
      "metadata": {
        "colab": {
          "base_uri": "https://localhost:8080/"
        },
        "id": "0toHdFH1H-IO",
        "outputId": "42a432bb-caf0-46ab-c01f-8ecdc09e300e"
      },
      "execution_count": 254,
      "outputs": [
        {
          "output_type": "execute_result",
          "data": {
            "text/plain": [
              "(8752, 5)"
            ]
          },
          "metadata": {},
          "execution_count": 254
        }
      ]
    },
    {
      "cell_type": "markdown",
      "source": [
        "## **IV. Análisis y Visualización de los Datos**"
      ],
      "metadata": {
        "id": "2cGraeTYshwV"
      }
    },
    {
      "cell_type": "markdown",
      "source": [
        "### **A. Importación de librerías importantes**"
      ],
      "metadata": {
        "id": "xN5RDyLfe4JF"
      }
    },
    {
      "cell_type": "code",
      "source": [
        "import seaborn as sns # Gráficos\n",
        "import matplotlib.pyplot as plt # Gráficos"
      ],
      "metadata": {
        "id": "mep_swCn8FRg"
      },
      "execution_count": 255,
      "outputs": []
    },
    {
      "cell_type": "markdown",
      "source": [
        "### **B. Análisis de contenido**"
      ],
      "metadata": {
        "id": "yY5kSY0ie5vm"
      }
    },
    {
      "cell_type": "code",
      "source": [
        "sns.pairplot(data) # Gráfico de pares"
      ],
      "metadata": {
        "id": "gk3Ou3HW86Oo",
        "outputId": "be89447c-8227-4eb3-d502-14948d043a1e",
        "colab": {
          "base_uri": "https://localhost:8080/",
          "height": 1000
        }
      },
      "execution_count": 256,
      "outputs": [
        {
          "output_type": "execute_result",
          "data": {
            "text/plain": [
              "<seaborn.axisgrid.PairGrid at 0x7f8f2a85d510>"
            ]
          },
          "metadata": {},
          "execution_count": 256
        },
        {
          "output_type": "display_data",
          "data": {
            "text/plain": [
              "<Figure size 1000x1000 with 20 Axes>"
            ],
            "image/png": "[encoded data removed]"
          },
          "metadata": {}
        }
      ]
    },
    {
      "cell_type": "markdown",
      "source": [
        "### **C. Análisis de Correlación**"
      ],
      "metadata": {
        "id": "og0rXrbXfKbG"
      }
    },
    {
      "cell_type": "code",
      "source": [
        "numeric_df = data.select_dtypes(include=[np.number]) # Seleccionar solo las columnas numéricas\n",
        "numeric_df.corr() # Calcular la matriz de correlación"
      ],
      "metadata": {
        "id": "imHc5_V69HJE",
        "outputId": "a03661c2-8905-42b7-eeda-2f00dfa1eb00",
        "colab": {
          "base_uri": "https://localhost:8080/",
          "height": 209
        }
      },
      "execution_count": 257,
      "outputs": [
        {
          "output_type": "execute_result",
          "data": {
            "text/plain": [
              "                                      Daily Max 8-hour Ozone Concentration  \\\n",
              "Daily Max 8-hour Ozone Concentration                              1.000000   \n",
              "Daily AQI Value                                                   0.933460   \n",
              "Daily Obs Count                                                  -0.047218   \n",
              "Percent Complete                                                  0.014605   \n",
              "\n",
              "                                      Daily AQI Value  Daily Obs Count  \\\n",
              "Daily Max 8-hour Ozone Concentration         0.933460        -0.047218   \n",
              "Daily AQI Value                              1.000000        -0.034917   \n",
              "Daily Obs Count                             -0.034917         1.000000   \n",
              "Percent Complete                             0.004896         0.161515   \n",
              "\n",
              "                                      Percent Complete  \n",
              "Daily Max 8-hour Ozone Concentration          0.014605  \n",
              "Daily AQI Value                               0.004896  \n",
              "Daily Obs Count                               0.161515  \n",
              "Percent Complete                              1.000000  "
            ],
            "text/html": [
              "\n",
              "  <div id=\"df-da27781b-9fff-4477-87f7-e375e47a0244\" class=\"colab-df-container\">\n",
              "    <div>\n",
              "<style scoped>\n",
              "    .dataframe tbody tr th:only-of-type {\n",
              "        vertical-align: middle;\n",
              "    }\n",
              "\n",
              "    .dataframe tbody tr th {\n",
              "        vertical-align: top;\n",
              "    }\n",
              "\n",
              "    .dataframe thead th {\n",
              "        text-align: right;\n",
              "    }\n",
              "</style>\n",
              "<table border=\"1\" class=\"dataframe\">\n",
              "  <thead>\n",
              "    <tr style=\"text-align: right;\">\n",
              "      <th></th>\n",
              "      <th>Daily Max 8-hour Ozone Concentration</th>\n",
              "      <th>Daily AQI Value</th>\n",
              "      <th>Daily Obs Count</th>\n",
              "      <th>Percent Complete</th>\n",
              "    </tr>\n",
              "  </thead>\n",
              "  <tbody>\n",
              "    <tr>\n",
              "      <th>Daily Max 8-hour Ozone Concentration</th>\n",
              "      <td>1.000000</td>\n",
              "      <td>0.933460</td>\n",
              "      <td>-0.047218</td>\n",
              "      <td>0.014605</td>\n",
              "    </tr>\n",
              "    <tr>\n",
              "      <th>Daily AQI Value</th>\n",
              "      <td>0.933460</td>\n",
              "      <td>1.000000</td>\n",
              "      <td>-0.034917</td>\n",
              "      <td>0.004896</td>\n",
              "    </tr>\n",
              "    <tr>\n",
              "      <th>Daily Obs Count</th>\n",
              "      <td>-0.047218</td>\n",
              "      <td>-0.034917</td>\n",
              "      <td>1.000000</td>\n",
              "      <td>0.161515</td>\n",
              "    </tr>\n",
              "    <tr>\n",
              "      <th>Percent Complete</th>\n",
              "      <td>0.014605</td>\n",
              "      <td>0.004896</td>\n",
              "      <td>0.161515</td>\n",
              "      <td>1.000000</td>\n",
              "    </tr>\n",
              "  </tbody>\n",
              "</table>\n",
              "</div>\n",
              "    <div class=\"colab-df-buttons\">\n",
              "\n",
              "  <div class=\"colab-df-container\">\n",
              "    <button class=\"colab-df-convert\" onclick=\"convertToInteractive('df-da27781b-9fff-4477-87f7-e375e47a0244')\"\n",
              "            title=\"Convert this dataframe to an interactive table.\"\n",
              "            style=\"display:none;\">\n",
              "\n",
              "  <svg xmlns=\"http://www.w3.org/2000/svg\" height=\"24px\" viewBox=\"0 -960 960 960\">\n",
              "    <path d=\"M120-120v-720h720v720H120Zm60-500h600v-160H180v160Zm220 220h160v-160H400v160Zm0 220h160v-160H400v160ZM180-400h160v-160H180v160Zm440 0h160v-160H620v160ZM180-180h160v-160H180v160Zm440 0h160v-160H620v160Z\"/>\n",
              "  </svg>\n",
              "    </button>\n",
              "\n",
              "  <style>\n",
              "    .colab-df-container {\n",
              "      display:flex;\n",
              "      gap: 12px;\n",
              "    }\n",
              "\n",
              "    .colab-df-convert {\n",
              "      background-color: #E8F0FE;\n",
              "      border: none;\n",
              "      border-radius: 50%;\n",
              "      cursor: pointer;\n",
              "      display: none;\n",
              "      fill: #1967D2;\n",
              "      height: 32px;\n",
              "      padding: 0 0 0 0;\n",
              "      width: 32px;\n",
              "    }\n",
              "\n",
              "    .colab-df-convert:hover {\n",
              "      background-color: #E2EBFA;\n",
              "      box-shadow: 0px 1px 2px rgba(60, 64, 67, 0.3), 0px 1px 3px 1px rgba(60, 64, 67, 0.15);\n",
              "      fill: #174EA6;\n",
              "    }\n",
              "\n",
              "    .colab-df-buttons div {\n",
              "      margin-bottom: 4px;\n",
              "    }\n",
              "\n",
              "    [theme=dark] .colab-df-convert {\n",
              "      background-color: #3B4455;\n",
              "      fill: #D2E3FC;\n",
              "    }\n",
              "\n",
              "    [theme=dark] .colab-df-convert:hover {\n",
              "      background-color: #434B5C;\n",
              "      box-shadow: 0px 1px 3px 1px rgba(0, 0, 0, 0.15);\n",
              "      filter: drop-shadow(0px 1px 2px rgba(0, 0, 0, 0.3));\n",
              "      fill: #FFFFFF;\n",
              "    }\n",
              "  </style>\n",
              "\n",
              "    <script>\n",
              "      const buttonEl =\n",
              "        document.querySelector('#df-da27781b-9fff-4477-87f7-e375e47a0244 button.colab-df-convert');\n",
              "      buttonEl.style.display =\n",
              "        google.colab.kernel.accessAllowed ? 'block' : 'none';\n",
              "\n",
              "      async function convertToInteractive(key) {\n",
              "        const element = document.querySelector('#df-da27781b-9fff-4477-87f7-e375e47a0244');\n",
              "        const dataTable =\n",
              "          await google.colab.kernel.invokeFunction('convertToInteractive',\n",
              "                                                    [key], {});\n",
              "        if (!dataTable) return;\n",
              "\n",
              "        const docLinkHtml = 'Like what you see? Visit the ' +\n",
              "          '<a target=\"_blank\" href=https://colab.research.google.com/notebooks/data_table.ipynb>data table notebook</a>'\n",
              "          + ' to learn more about interactive tables.';\n",
              "        element.innerHTML = '';\n",
              "        dataTable['output_type'] = 'display_data';\n",
              "        await google.colab.output.renderOutput(dataTable, element);\n",
              "        const docLink = document.createElement('div');\n",
              "        docLink.innerHTML = docLinkHtml;\n",
              "        element.appendChild(docLink);\n",
              "      }\n",
              "    </script>\n",
              "  </div>\n",
              "\n",
              "\n",
              "<div id=\"df-8ac3a47d-e105-4d0d-b1ad-4978ff63272c\">\n",
              "  <button class=\"colab-df-quickchart\" onclick=\"quickchart('df-8ac3a47d-e105-4d0d-b1ad-4978ff63272c')\"\n",
              "            title=\"Suggest charts\"\n",
              "            style=\"display:none;\">\n",
              "\n",
              "<svg xmlns=\"http://www.w3.org/2000/svg\" height=\"24px\"viewBox=\"0 0 24 24\"\n",
              "     width=\"24px\">\n",
              "    <g>\n",
              "        <path d=\"M19 3H5c-1.1 0-2 .9-2 2v14c0 1.1.9 2 2 2h14c1.1 0 2-.9 2-2V5c0-1.1-.9-2-2-2zM9 17H7v-7h2v7zm4 0h-2V7h2v10zm4 0h-2v-4h2v4z\"/>\n",
              "    </g>\n",
              "</svg>\n",
              "  </button>\n",
              "\n",
              "<style>\n",
              "  .colab-df-quickchart {\n",
              "      --bg-color: #E8F0FE;\n",
              "      --fill-color: #1967D2;\n",
              "      --hover-bg-color: #E2EBFA;\n",
              "      --hover-fill-color: #174EA6;\n",
              "      --disabled-fill-color: #AAA;\n",
              "      --disabled-bg-color: #DDD;\n",
              "  }\n",
              "\n",
              "  [theme=dark] .colab-df-quickchart {\n",
              "      --bg-color: #3B4455;\n",
              "      --fill-color: #D2E3FC;\n",
              "      --hover-bg-color: #434B5C;\n",
              "      --hover-fill-color: #FFFFFF;\n",
              "      --disabled-bg-color: #3B4455;\n",
              "      --disabled-fill-color: #666;\n",
              "  }\n",
              "\n",
              "  .colab-df-quickchart {\n",
              "    background-color: var(--bg-color);\n",
              "    border: none;\n",
              "    border-radius: 50%;\n",
              "    cursor: pointer;\n",
              "    display: none;\n",
              "    fill: var(--fill-color);\n",
              "    height: 32px;\n",
              "    padding: 0;\n",
              "    width: 32px;\n",
              "  }\n",
              "\n",
              "  .colab-df-quickchart:hover {\n",
              "    background-color: var(--hover-bg-color);\n",
              "    box-shadow: 0 1px 2px rgba(60, 64, 67, 0.3), 0 1px 3px 1px rgba(60, 64, 67, 0.15);\n",
              "    fill: var(--button-hover-fill-color);\n",
              "  }\n",
              "\n",
              "  .colab-df-quickchart-complete:disabled,\n",
              "  .colab-df-quickchart-complete:disabled:hover {\n",
              "    background-color: var(--disabled-bg-color);\n",
              "    fill: var(--disabled-fill-color);\n",
              "    box-shadow: none;\n",
              "  }\n",
              "\n",
              "  .colab-df-spinner {\n",
              "    border: 2px solid var(--fill-color);\n",
              "    border-color: transparent;\n",
              "    border-bottom-color: var(--fill-color);\n",
              "    animation:\n",
              "      spin 1s steps(1) infinite;\n",
              "  }\n",
              "\n",
              "  @keyframes spin {\n",
              "    0% {\n",
              "      border-color: transparent;\n",
              "      border-bottom-color: var(--fill-color);\n",
              "      border-left-color: var(--fill-color);\n",
              "    }\n",
              "    20% {\n",
              "      border-color: transparent;\n",
              "      border-left-color: var(--fill-color);\n",
              "      border-top-color: var(--fill-color);\n",
              "    }\n",
              "    30% {\n",
              "      border-color: transparent;\n",
              "      border-left-color: var(--fill-color);\n",
              "      border-top-color: var(--fill-color);\n",
              "      border-right-color: var(--fill-color);\n",
              "    }\n",
              "    40% {\n",
              "      border-color: transparent;\n",
              "      border-right-color: var(--fill-color);\n",
              "      border-top-color: var(--fill-color);\n",
              "    }\n",
              "    60% {\n",
              "      border-color: transparent;\n",
              "      border-right-color: var(--fill-color);\n",
              "    }\n",
              "    80% {\n",
              "      border-color: transparent;\n",
              "      border-right-color: var(--fill-color);\n",
              "      border-bottom-color: var(--fill-color);\n",
              "    }\n",
              "    90% {\n",
              "      border-color: transparent;\n",
              "      border-bottom-color: var(--fill-color);\n",
              "    }\n",
              "  }\n",
              "</style>\n",
              "\n",
              "  <script>\n",
              "    async function quickchart(key) {\n",
              "      const quickchartButtonEl =\n",
              "        document.querySelector('#' + key + ' button');\n",
              "      quickchartButtonEl.disabled = true;  // To prevent multiple clicks.\n",
              "      quickchartButtonEl.classList.add('colab-df-spinner');\n",
              "      try {\n",
              "        const charts = await google.colab.kernel.invokeFunction(\n",
              "            'suggestCharts', [key], {});\n",
              "      } catch (error) {\n",
              "        console.error('Error during call to suggestCharts:', error);\n",
              "      }\n",
              "      quickchartButtonEl.classList.remove('colab-df-spinner');\n",
              "      quickchartButtonEl.classList.add('colab-df-quickchart-complete');\n",
              "    }\n",
              "    (() => {\n",
              "      let quickchartButtonEl =\n",
              "        document.querySelector('#df-8ac3a47d-e105-4d0d-b1ad-4978ff63272c button');\n",
              "      quickchartButtonEl.style.display =\n",
              "        google.colab.kernel.accessAllowed ? 'block' : 'none';\n",
              "    })();\n",
              "  </script>\n",
              "</div>\n",
              "\n",
              "    </div>\n",
              "  </div>\n"
            ],
            "application/vnd.google.colaboratory.intrinsic+json": {
              "type": "dataframe",
              "summary": "{\n  \"name\": \"numeric_df\",\n  \"rows\": 4,\n  \"fields\": [\n    {\n      \"column\": \"Daily Max 8-hour Ozone Concentration\",\n      \"properties\": {\n        \"dtype\": \"number\",\n        \"std\": 0.5687660389118552,\n        \"min\": -0.04721765592612508,\n        \"max\": 1.0,\n        \"num_unique_values\": 4,\n        \"samples\": [\n          0.9334596183301053,\n          0.014605496552409005,\n          1.0\n        ],\n        \"semantic_type\": \"\",\n        \"description\": \"\"\n      }\n    },\n    {\n      \"column\": \"Daily AQI Value\",\n      \"properties\": {\n        \"dtype\": \"number\",\n        \"std\": 0.5676913355836789,\n        \"min\": -0.03491689459200075,\n        \"max\": 1.0,\n        \"num_unique_values\": 4,\n        \"samples\": [\n          1.0,\n          0.004895913103873735,\n          0.9334596183301053\n        ],\n        \"semantic_type\": \"\",\n        \"description\": \"\"\n      }\n    },\n    {\n      \"column\": \"Daily Obs Count\",\n      \"properties\": {\n        \"dtype\": \"number\",\n        \"std\": 0.49607468259794907,\n        \"min\": -0.04721765592612508,\n        \"max\": 1.0,\n        \"num_unique_values\": 4,\n        \"samples\": [\n          -0.03491689459200075,\n          0.16151491211687208,\n          -0.04721765592612508\n        ],\n        \"semantic_type\": \"\",\n        \"description\": \"\"\n      }\n    },\n    {\n      \"column\": \"Percent Complete\",\n      \"properties\": {\n        \"dtype\": \"number\",\n        \"std\": 0.47526289891565493,\n        \"min\": 0.004895913103873735,\n        \"max\": 1.0,\n        \"num_unique_values\": 4,\n        \"samples\": [\n          0.004895913103873735,\n          1.0,\n          0.014605496552409005\n        ],\n        \"semantic_type\": \"\",\n        \"description\": \"\"\n      }\n    }\n  ]\n}"
            }
          },
          "metadata": {},
          "execution_count": 257
        }
      ]
    },
    {
      "cell_type": "code",
      "source": [
        "plt.figure(figsize=(10,7)) # Tamaño del gráfico\n",
        "sns.heatmap(numeric_df.corr(),annot=True,linewidths=2) # Gráfico de mapa de calor"
      ],
      "metadata": {
        "id": "dB2DngX09JNg",
        "outputId": "4c458ee7-e397-41ab-a2e6-3f4c311af9b8",
        "colab": {
          "base_uri": "https://localhost:8080/",
          "height": 864
        }
      },
      "execution_count": 258,
      "outputs": [
        {
          "output_type": "execute_result",
          "data": {
            "text/plain": [
              "<Axes: >"
            ]
          },
          "metadata": {},
          "execution_count": 258
        },
        {
          "output_type": "display_data",
          "data": {
            "text/plain": [
              "<Figure size 1000x700 with 2 Axes>"
            ],
            "image/png": "[encoded data removed]"
          },
          "metadata": {}
        }
      ]
    },
    {
      "cell_type": "code",
      "source": [
        "l_column = list(data.columns) # Haciendo una lista de las columnas\n",
        "len_feature = len(l_column) # Longitud de la lista de vectores de columna\n",
        "l_column"
      ],
      "metadata": {
        "id": "ipLRtfOq9tPa",
        "outputId": "23f151d6-3cf0-44a0-fa3f-c6f9499ab12c",
        "colab": {
          "base_uri": "https://localhost:8080/"
        }
      },
      "execution_count": 259,
      "outputs": [
        {
          "output_type": "execute_result",
          "data": {
            "text/plain": [
              "['Date',\n",
              " 'Daily Max 8-hour Ozone Concentration',\n",
              " 'Daily AQI Value',\n",
              " 'Daily Obs Count',\n",
              " 'Percent Complete']"
            ]
          },
          "metadata": {},
          "execution_count": 259
        }
      ]
    },
    {
      "cell_type": "markdown",
      "source": [
        "### **D. División de los Datos en Conjuntos de Entrenamiento y Prueba**"
      ],
      "metadata": {
        "id": "MnUfM9fZfVtR"
      }
    },
    {
      "cell_type": "code",
      "source": [
        "X = data[l_column[0:len_feature-2]] # Seleccionar todas las columnas excepto la última\n",
        "y = data[l_column[len_feature-2]] # Seleccionar la última columna"
      ],
      "metadata": {
        "id": "FCf71J9d9oF2"
      },
      "execution_count": 260,
      "outputs": []
    },
    {
      "cell_type": "code",
      "source": [
        "print(\"Tamaño de Características:\",X.shape)\n",
        "print(\"Tamaño de Variable Objetivo:\",y.shape)"
      ],
      "metadata": {
        "id": "LUJlWb8P9rTr",
        "outputId": "febf8485-cb7d-4d48-997f-5aeb4fac6328",
        "colab": {
          "base_uri": "https://localhost:8080/"
        }
      },
      "execution_count": 261,
      "outputs": [
        {
          "output_type": "stream",
          "name": "stdout",
          "text": [
            "Tamaño de Características: (8752, 3)\n",
            "Tamaño de Variable Objetivo: (8752,)\n"
          ]
        }
      ]
    },
    {
      "cell_type": "code",
      "source": [
        "from sklearn.model_selection import train_test_split # Dividir los datos en conjuntos de entrenamiento y prueba\n",
        "\n",
        "split_index = int(len(X) * 0.7) # Dividir los datos en conjuntos de entrenamiento y prueba\n",
        "\n",
        "X_train = X[:split_index]\n",
        "X_test = X[split_index:]\n",
        "y_train = y[:split_index]\n",
        "y_test = y[split_index:]"
      ],
      "metadata": {
        "id": "6eYZgEEA9-ja"
      },
      "execution_count": 262,
      "outputs": []
    },
    {
      "cell_type": "code",
      "source": [
        "print(\"Tamaño del conjunto de características del entrenamiento:\",X_train.shape)\n",
        "print(\"Tamaño del conjunto de características de prueba:\",X_test.shape)\n",
        "print(\"Tamaño de la variable objetivo del entrenamiento:\",y_train.shape)\n",
        "print(\"Tamaño de la variable objetivo de prueba:\",y_test.shape)"
      ],
      "metadata": {
        "id": "S96cx1XX-Hsp",
        "outputId": "b8f7ad4b-b040-4cfe-a73a-5e08337499fd",
        "colab": {
          "base_uri": "https://localhost:8080/"
        }
      },
      "execution_count": 263,
      "outputs": [
        {
          "output_type": "stream",
          "name": "stdout",
          "text": [
            "Tamaño del conjunto de características del entrenamiento: (6126, 3)\n",
            "Tamaño del conjunto de características de prueba: (2626, 3)\n",
            "Tamaño de la variable objetivo del entrenamiento: (6126,)\n",
            "Tamaño de la variable objetivo de prueba: (2626,)\n"
          ]
        }
      ]
    },
    {
      "cell_type": "markdown",
      "source": [
        "## **V. Aplicación de la Regresión Lineal**"
      ],
      "metadata": {
        "id": "dQrHbbTsFFAv"
      }
    },
    {
      "cell_type": "code",
      "source": [
        "from sklearn.linear_model import LinearRegression # Regresión lineal\n",
        "from sklearn import metrics # Métricas de evaluación"
      ],
      "metadata": {
        "id": "zeiEjHsu-v1-"
      },
      "execution_count": 264,
      "outputs": []
    },
    {
      "cell_type": "code",
      "source": [
        "lm = LinearRegression() # Creando un objeto de Regresión Lineal 'lm'"
      ],
      "metadata": {
        "id": "NAmh1LCR-0BF"
      },
      "execution_count": 265,
      "outputs": []
    },
    {
      "cell_type": "code",
      "source": [
        "# Convertir la columna 'Date' a tipo datetime\n",
        "data['Date'] = pd.to_datetime(data['Date'])\n",
        "\n",
        "X = data.drop(columns=['Daily Max 8-hour Ozone Concentration', 'Date'])  # Excluir la columna 'Date'\n",
        "y = data['Daily Max 8-hour Ozone Concentration']  # Variable objetivo\n",
        "\n",
        "# Dividir los datos de forma no aleatoria, manteniendo el orden temporal\n",
        "split_index = int(len(X) * 0.7)\n",
        "X_train, X_test = X[:split_index], X[split_index:]\n",
        "y_train, y_test = y[:split_index], y[split_index:]\n",
        "\n",
        "# Ajustar el modelo a los datos de entrenamiento\n",
        "lm.fit(X_train, y_train)"
      ],
      "metadata": {
        "id": "0C5XOUop_l5x",
        "colab": {
          "base_uri": "https://localhost:8080/",
          "height": 74
        },
        "outputId": "a2e6a3e3-3f74-4582-b421-a084d596674d"
      },
      "execution_count": 266,
      "outputs": [
        {
          "output_type": "execute_result",
          "data": {
            "text/plain": [
              "LinearRegression()"
            ],
            "text/html": [
              "<style>#sk-container-id-6 {color: black;}#sk-container-id-6 pre{padding: 0;}#sk-container-id-6 div.sk-toggleable {background-color: white;}#sk-container-id-6 label.sk-toggleable__label {cursor: pointer;display: block;width: 100%;margin-bottom: 0;padding: 0.3em;box-sizing: border-box;text-align: center;}#sk-container-id-6 label.sk-toggleable__label-arrow:before {content: \"▸\";float: left;margin-right: 0.25em;color: #696969;}#sk-container-id-6 label.sk-toggleable__label-arrow:hover:before {color: black;}#sk-container-id-6 div.sk-estimator:hover label.sk-toggleable__label-arrow:before {color: black;}#sk-container-id-6 div.sk-toggleable__content {max-height: 0;max-width: 0;overflow: hidden;text-align: left;background-color: #f0f8ff;}#sk-container-id-6 div.sk-toggleable__content pre {margin: 0.2em;color: black;border-radius: 0.25em;background-color: #f0f8ff;}#sk-container-id-6 input.sk-toggleable__control:checked~div.sk-toggleable__content {max-height: 200px;max-width: 100%;overflow: auto;}#sk-container-id-6 input.sk-toggleable__control:checked~label.sk-toggleable__label-arrow:before {content: \"▾\";}#sk-container-id-6 div.sk-estimator input.sk-toggleable__control:checked~label.sk-toggleable__label {background-color: #d4ebff;}#sk-container-id-6 div.sk-label input.sk-toggleable__control:checked~label.sk-toggleable__label {background-color: #d4ebff;}#sk-container-id-6 input.sk-hidden--visually {border: 0;clip: rect(1px 1px 1px 1px);clip: rect(1px, 1px, 1px, 1px);height: 1px;margin: -1px;overflow: hidden;padding: 0;position: absolute;width: 1px;}#sk-container-id-6 div.sk-estimator {font-family: monospace;background-color: #f0f8ff;border: 1px dotted black;border-radius: 0.25em;box-sizing: border-box;margin-bottom: 0.5em;}#sk-container-id-6 div.sk-estimator:hover {background-color: #d4ebff;}#sk-container-id-6 div.sk-parallel-item::after {content: \"\";width: 100%;border-bottom: 1px solid gray;flex-grow: 1;}#sk-container-id-6 div.sk-label:hover label.sk-toggleable__label {background-color: #d4ebff;}#sk-container-id-6 div.sk-serial::before {content: \"\";position: absolute;border-left: 1px solid gray;box-sizing: border-box;top: 0;bottom: 0;left: 50%;z-index: 0;}#sk-container-id-6 div.sk-serial {display: flex;flex-direction: column;align-items: center;background-color: white;padding-right: 0.2em;padding-left: 0.2em;position: relative;}#sk-container-id-6 div.sk-item {position: relative;z-index: 1;}#sk-container-id-6 div.sk-parallel {display: flex;align-items: stretch;justify-content: center;background-color: white;position: relative;}#sk-container-id-6 div.sk-item::before, #sk-container-id-6 div.sk-parallel-item::before {content: \"\";position: absolute;border-left: 1px solid gray;box-sizing: border-box;top: 0;bottom: 0;left: 50%;z-index: -1;}#sk-container-id-6 div.sk-parallel-item {display: flex;flex-direction: column;z-index: 1;position: relative;background-color: white;}#sk-container-id-6 div.sk-parallel-item:first-child::after {align-self: flex-end;width: 50%;}#sk-container-id-6 div.sk-parallel-item:last-child::after {align-self: flex-start;width: 50%;}#sk-container-id-6 div.sk-parallel-item:only-child::after {width: 0;}#sk-container-id-6 div.sk-dashed-wrapped {border: 1px dashed gray;margin: 0 0.4em 0.5em 0.4em;box-sizing: border-box;padding-bottom: 0.4em;background-color: white;}#sk-container-id-6 div.sk-label label {font-family: monospace;font-weight: bold;display: inline-block;line-height: 1.2em;}#sk-container-id-6 div.sk-label-container {text-align: center;}#sk-container-id-6 div.sk-container {/* jupyter's `normalize.less` sets `[hidden] { display: none; }` but bootstrap.min.css set `[hidden] { display: none !important; }` so we also need the `!important` here to be able to override the default hidden behavior on the sphinx rendered scikit-learn.org. See: https://github.com/scikit-learn/scikit-learn/issues/21755 */display: inline-block !important;position: relative;}#sk-container-id-6 div.sk-text-repr-fallback {display: none;}</style><div id=\"sk-container-id-6\" class=\"sk-top-container\"><div class=\"sk-text-repr-fallback\"><pre>LinearRegression()</pre><b>In a Jupyter environment, please rerun this cell to show the HTML representation or trust the notebook. <br />On GitHub, the HTML representation is unable to render, please try loading this page with nbviewer.org.</b></div><div class=\"sk-container\" hidden><div class=\"sk-item\"><div class=\"sk-estimator sk-toggleable\"><input class=\"sk-toggleable__control sk-hidden--visually\" id=\"sk-estimator-id-6\" type=\"checkbox\" checked><label for=\"sk-estimator-id-6\" class=\"sk-toggleable__label sk-toggleable__label-arrow\">LinearRegression</label><div class=\"sk-toggleable__content\"><pre>LinearRegression()</pre></div></div></div></div></div>"
            ]
          },
          "metadata": {},
          "execution_count": 266
        }
      ]
    },
    {
      "cell_type": "code",
      "source": [
        "print(\"El término de intersección del modelo lineal:\", lm.intercept_)"
      ],
      "metadata": {
        "id": "dn9ud8FL-91s",
        "colab": {
          "base_uri": "https://localhost:8080/"
        },
        "outputId": "42f84817-c04b-48a3-8796-578c6412123b"
      },
      "execution_count": 267,
      "outputs": [
        {
          "output_type": "stream",
          "name": "stdout",
          "text": [
            "El término de intersección del modelo lineal: 0.009772764048267678\n"
          ]
        }
      ]
    },
    {
      "cell_type": "code",
      "source": [
        "print(\"Los coeficientes del modelo lineal:\", lm.coef_)"
      ],
      "metadata": {
        "colab": {
          "base_uri": "https://localhost:8080/"
        },
        "id": "u0HU-5p3A0s_",
        "outputId": "cf9974d2-c43a-436a-f36b-62b5dd09b732"
      },
      "execution_count": 268,
      "outputs": [
        {
          "output_type": "stream",
          "name": "stdout",
          "text": [
            "Los coeficientes del modelo lineal: [ 7.04979220e-04 -6.83955171e-05  4.52492110e-05]\n"
          ]
        }
      ]
    },
    {
      "cell_type": "code",
      "source": [
        "cdf = pd.DataFrame(data=lm.coef_, index=X_train.columns, columns=[\"Coefficients\"])\n",
        "cdf"
      ],
      "metadata": {
        "colab": {
          "base_uri": "https://localhost:8080/",
          "height": 143
        },
        "id": "BlEYD5KSA6SJ",
        "outputId": "2f3b59e0-d0e5-4be7-d904-60dd6c1f0bce"
      },
      "execution_count": 269,
      "outputs": [
        {
          "output_type": "execute_result",
          "data": {
            "text/plain": [
              "                  Coefficients\n",
              "Daily AQI Value       0.000705\n",
              "Daily Obs Count      -0.000068\n",
              "Percent Complete      0.000045"
            ],
            "text/html": [
              "\n",
              "  <div id=\"df-0b07c8e6-ac3f-470b-a8fb-f068bfbf03d2\" class=\"colab-df-container\">\n",
              "    <div>\n",
              "<style scoped>\n",
              "    .dataframe tbody tr th:only-of-type {\n",
              "        vertical-align: middle;\n",
              "    }\n",
              "\n",
              "    .dataframe tbody tr th {\n",
              "        vertical-align: top;\n",
              "    }\n",
              "\n",
              "    .dataframe thead th {\n",
              "        text-align: right;\n",
              "    }\n",
              "</style>\n",
              "<table border=\"1\" class=\"dataframe\">\n",
              "  <thead>\n",
              "    <tr style=\"text-align: right;\">\n",
              "      <th></th>\n",
              "      <th>Coefficients</th>\n",
              "    </tr>\n",
              "  </thead>\n",
              "  <tbody>\n",
              "    <tr>\n",
              "      <th>Daily AQI Value</th>\n",
              "      <td>0.000705</td>\n",
              "    </tr>\n",
              "    <tr>\n",
              "      <th>Daily Obs Count</th>\n",
              "      <td>-0.000068</td>\n",
              "    </tr>\n",
              "    <tr>\n",
              "      <th>Percent Complete</th>\n",
              "      <td>0.000045</td>\n",
              "    </tr>\n",
              "  </tbody>\n",
              "</table>\n",
              "</div>\n",
              "    <div class=\"colab-df-buttons\">\n",
              "\n",
              "  <div class=\"colab-df-container\">\n",
              "    <button class=\"colab-df-convert\" onclick=\"convertToInteractive('df-0b07c8e6-ac3f-470b-a8fb-f068bfbf03d2')\"\n",
              "            title=\"Convert this dataframe to an interactive table.\"\n",
              "            style=\"display:none;\">\n",
              "\n",
              "  <svg xmlns=\"http://www.w3.org/2000/svg\" height=\"24px\" viewBox=\"0 -960 960 960\">\n",
              "    <path d=\"M120-120v-720h720v720H120Zm60-500h600v-160H180v160Zm220 220h160v-160H400v160Zm0 220h160v-160H400v160ZM180-400h160v-160H180v160Zm440 0h160v-160H620v160ZM180-180h160v-160H180v160Zm440 0h160v-160H620v160Z\"/>\n",
              "  </svg>\n",
              "    </button>\n",
              "\n",
              "  <style>\n",
              "    .colab-df-container {\n",
              "      display:flex;\n",
              "      gap: 12px;\n",
              "    }\n",
              "\n",
              "    .colab-df-convert {\n",
              "      background-color: #E8F0FE;\n",
              "      border: none;\n",
              "      border-radius: 50%;\n",
              "      cursor: pointer;\n",
              "      display: none;\n",
              "      fill: #1967D2;\n",
              "      height: 32px;\n",
              "      padding: 0 0 0 0;\n",
              "      width: 32px;\n",
              "    }\n",
              "\n",
              "    .colab-df-convert:hover {\n",
              "      background-color: #E2EBFA;\n",
              "      box-shadow: 0px 1px 2px rgba(60, 64, 67, 0.3), 0px 1px 3px 1px rgba(60, 64, 67, 0.15);\n",
              "      fill: #174EA6;\n",
              "    }\n",
              "\n",
              "    .colab-df-buttons div {\n",
              "      margin-bottom: 4px;\n",
              "    }\n",
              "\n",
              "    [theme=dark] .colab-df-convert {\n",
              "      background-color: #3B4455;\n",
              "      fill: #D2E3FC;\n",
              "    }\n",
              "\n",
              "    [theme=dark] .colab-df-convert:hover {\n",
              "      background-color: #434B5C;\n",
              "      box-shadow: 0px 1px 3px 1px rgba(0, 0, 0, 0.15);\n",
              "      filter: drop-shadow(0px 1px 2px rgba(0, 0, 0, 0.3));\n",
              "      fill: #FFFFFF;\n",
              "    }\n",
              "  </style>\n",
              "\n",
              "    <script>\n",
              "      const buttonEl =\n",
              "        document.querySelector('#df-0b07c8e6-ac3f-470b-a8fb-f068bfbf03d2 button.colab-df-convert');\n",
              "      buttonEl.style.display =\n",
              "        google.colab.kernel.accessAllowed ? 'block' : 'none';\n",
              "\n",
              "      async function convertToInteractive(key) {\n",
              "        const element = document.querySelector('#df-0b07c8e6-ac3f-470b-a8fb-f068bfbf03d2');\n",
              "        const dataTable =\n",
              "          await google.colab.kernel.invokeFunction('convertToInteractive',\n",
              "                                                    [key], {});\n",
              "        if (!dataTable) return;\n",
              "\n",
              "        const docLinkHtml = 'Like what you see? Visit the ' +\n",
              "          '<a target=\"_blank\" href=https://colab.research.google.com/notebooks/data_table.ipynb>data table notebook</a>'\n",
              "          + ' to learn more about interactive tables.';\n",
              "        element.innerHTML = '';\n",
              "        dataTable['output_type'] = 'display_data';\n",
              "        await google.colab.output.renderOutput(dataTable, element);\n",
              "        const docLink = document.createElement('div');\n",
              "        docLink.innerHTML = docLinkHtml;\n",
              "        element.appendChild(docLink);\n",
              "      }\n",
              "    </script>\n",
              "  </div>\n",
              "\n",
              "\n",
              "<div id=\"df-2887fc9b-eb15-4840-b3eb-eb7af953d53b\">\n",
              "  <button class=\"colab-df-quickchart\" onclick=\"quickchart('df-2887fc9b-eb15-4840-b3eb-eb7af953d53b')\"\n",
              "            title=\"Suggest charts\"\n",
              "            style=\"display:none;\">\n",
              "\n",
              "<svg xmlns=\"http://www.w3.org/2000/svg\" height=\"24px\"viewBox=\"0 0 24 24\"\n",
              "     width=\"24px\">\n",
              "    <g>\n",
              "        <path d=\"M19 3H5c-1.1 0-2 .9-2 2v14c0 1.1.9 2 2 2h14c1.1 0 2-.9 2-2V5c0-1.1-.9-2-2-2zM9 17H7v-7h2v7zm4 0h-2V7h2v10zm4 0h-2v-4h2v4z\"/>\n",
              "    </g>\n",
              "</svg>\n",
              "  </button>\n",
              "\n",
              "<style>\n",
              "  .colab-df-quickchart {\n",
              "      --bg-color: #E8F0FE;\n",
              "      --fill-color: #1967D2;\n",
              "      --hover-bg-color: #E2EBFA;\n",
              "      --hover-fill-color: #174EA6;\n",
              "      --disabled-fill-color: #AAA;\n",
              "      --disabled-bg-color: #DDD;\n",
              "  }\n",
              "\n",
              "  [theme=dark] .colab-df-quickchart {\n",
              "      --bg-color: #3B4455;\n",
              "      --fill-color: #D2E3FC;\n",
              "      --hover-bg-color: #434B5C;\n",
              "      --hover-fill-color: #FFFFFF;\n",
              "      --disabled-bg-color: #3B4455;\n",
              "      --disabled-fill-color: #666;\n",
              "  }\n",
              "\n",
              "  .colab-df-quickchart {\n",
              "    background-color: var(--bg-color);\n",
              "    border: none;\n",
              "    border-radius: 50%;\n",
              "    cursor: pointer;\n",
              "    display: none;\n",
              "    fill: var(--fill-color);\n",
              "    height: 32px;\n",
              "    padding: 0;\n",
              "    width: 32px;\n",
              "  }\n",
              "\n",
              "  .colab-df-quickchart:hover {\n",
              "    background-color: var(--hover-bg-color);\n",
              "    box-shadow: 0 1px 2px rgba(60, 64, 67, 0.3), 0 1px 3px 1px rgba(60, 64, 67, 0.15);\n",
              "    fill: var(--button-hover-fill-color);\n",
              "  }\n",
              "\n",
              "  .colab-df-quickchart-complete:disabled,\n",
              "  .colab-df-quickchart-complete:disabled:hover {\n",
              "    background-color: var(--disabled-bg-color);\n",
              "    fill: var(--disabled-fill-color);\n",
              "    box-shadow: none;\n",
              "  }\n",
              "\n",
              "  .colab-df-spinner {\n",
              "    border: 2px solid var(--fill-color);\n",
              "    border-color: transparent;\n",
              "    border-bottom-color: var(--fill-color);\n",
              "    animation:\n",
              "      spin 1s steps(1) infinite;\n",
              "  }\n",
              "\n",
              "  @keyframes spin {\n",
              "    0% {\n",
              "      border-color: transparent;\n",
              "      border-bottom-color: var(--fill-color);\n",
              "      border-left-color: var(--fill-color);\n",
              "    }\n",
              "    20% {\n",
              "      border-color: transparent;\n",
              "      border-left-color: var(--fill-color);\n",
              "      border-top-color: var(--fill-color);\n",
              "    }\n",
              "    30% {\n",
              "      border-color: transparent;\n",
              "      border-left-color: var(--fill-color);\n",
              "      border-top-color: var(--fill-color);\n",
              "      border-right-color: var(--fill-color);\n",
              "    }\n",
              "    40% {\n",
              "      border-color: transparent;\n",
              "      border-right-color: var(--fill-color);\n",
              "      border-top-color: var(--fill-color);\n",
              "    }\n",
              "    60% {\n",
              "      border-color: transparent;\n",
              "      border-right-color: var(--fill-color);\n",
              "    }\n",
              "    80% {\n",
              "      border-color: transparent;\n",
              "      border-right-color: var(--fill-color);\n",
              "      border-bottom-color: var(--fill-color);\n",
              "    }\n",
              "    90% {\n",
              "      border-color: transparent;\n",
              "      border-bottom-color: var(--fill-color);\n",
              "    }\n",
              "  }\n",
              "</style>\n",
              "\n",
              "  <script>\n",
              "    async function quickchart(key) {\n",
              "      const quickchartButtonEl =\n",
              "        document.querySelector('#' + key + ' button');\n",
              "      quickchartButtonEl.disabled = true;  // To prevent multiple clicks.\n",
              "      quickchartButtonEl.classList.add('colab-df-spinner');\n",
              "      try {\n",
              "        const charts = await google.colab.kernel.invokeFunction(\n",
              "            'suggestCharts', [key], {});\n",
              "      } catch (error) {\n",
              "        console.error('Error during call to suggestCharts:', error);\n",
              "      }\n",
              "      quickchartButtonEl.classList.remove('colab-df-spinner');\n",
              "      quickchartButtonEl.classList.add('colab-df-quickchart-complete');\n",
              "    }\n",
              "    (() => {\n",
              "      let quickchartButtonEl =\n",
              "        document.querySelector('#df-2887fc9b-eb15-4840-b3eb-eb7af953d53b button');\n",
              "      quickchartButtonEl.style.display =\n",
              "        google.colab.kernel.accessAllowed ? 'block' : 'none';\n",
              "    })();\n",
              "  </script>\n",
              "</div>\n",
              "\n",
              "  <div id=\"id_1a15b06e-ba50-4909-8535-3e0bc11f67fe\">\n",
              "    <style>\n",
              "      .colab-df-generate {\n",
              "        background-color: #E8F0FE;\n",
              "        border: none;\n",
              "        border-radius: 50%;\n",
              "        cursor: pointer;\n",
              "        display: none;\n",
              "        fill: #1967D2;\n",
              "        height: 32px;\n",
              "        padding: 0 0 0 0;\n",
              "        width: 32px;\n",
              "      }\n",
              "\n",
              "      .colab-df-generate:hover {\n",
              "        background-color: #E2EBFA;\n",
              "        box-shadow: 0px 1px 2px rgba(60, 64, 67, 0.3), 0px 1px 3px 1px rgba(60, 64, 67, 0.15);\n",
              "        fill: #174EA6;\n",
              "      }\n",
              "\n",
              "      [theme=dark] .colab-df-generate {\n",
              "        background-color: #3B4455;\n",
              "        fill: #D2E3FC;\n",
              "      }\n",
              "\n",
              "      [theme=dark] .colab-df-generate:hover {\n",
              "        background-color: #434B5C;\n",
              "        box-shadow: 0px 1px 3px 1px rgba(0, 0, 0, 0.15);\n",
              "        filter: drop-shadow(0px 1px 2px rgba(0, 0, 0, 0.3));\n",
              "        fill: #FFFFFF;\n",
              "      }\n",
              "    </style>\n",
              "    <button class=\"colab-df-generate\" onclick=\"generateWithVariable('cdf')\"\n",
              "            title=\"Generate code using this dataframe.\"\n",
              "            style=\"display:none;\">\n",
              "\n",
              "  <svg xmlns=\"http://www.w3.org/2000/svg\" height=\"24px\"viewBox=\"0 0 24 24\"\n",
              "       width=\"24px\">\n",
              "    <path d=\"M7,19H8.4L18.45,9,17,7.55,7,17.6ZM5,21V16.75L18.45,3.32a2,2,0,0,1,2.83,0l1.4,1.43a1.91,1.91,0,0,1,.58,1.4,1.91,1.91,0,0,1-.58,1.4L9.25,21ZM18.45,9,17,7.55Zm-12,3A5.31,5.31,0,0,0,4.9,8.1,5.31,5.31,0,0,0,1,6.5,5.31,5.31,0,0,0,4.9,4.9,5.31,5.31,0,0,0,6.5,1,5.31,5.31,0,0,0,8.1,4.9,5.31,5.31,0,0,0,12,6.5,5.46,5.46,0,0,0,6.5,12Z\"/>\n",
              "  </svg>\n",
              "    </button>\n",
              "    <script>\n",
              "      (() => {\n",
              "      const buttonEl =\n",
              "        document.querySelector('#id_1a15b06e-ba50-4909-8535-3e0bc11f67fe button.colab-df-generate');\n",
              "      buttonEl.style.display =\n",
              "        google.colab.kernel.accessAllowed ? 'block' : 'none';\n",
              "\n",
              "      buttonEl.onclick = () => {\n",
              "        google.colab.notebook.generateWithVariable('cdf');\n",
              "      }\n",
              "      })();\n",
              "    </script>\n",
              "  </div>\n",
              "\n",
              "    </div>\n",
              "  </div>\n"
            ],
            "application/vnd.google.colaboratory.intrinsic+json": {
              "type": "dataframe",
              "variable_name": "cdf",
              "summary": "{\n  \"name\": \"cdf\",\n  \"rows\": 3,\n  \"fields\": [\n    {\n      \"column\": \"Coefficients\",\n      \"properties\": {\n        \"dtype\": \"number\",\n        \"std\": 0.0004175857784063766,\n        \"min\": -6.839551707238037e-05,\n        \"max\": 0.0007049792203657491,\n        \"num_unique_values\": 3,\n        \"samples\": [\n          0.0007049792203657491,\n          -6.839551707238037e-05,\n          4.524921101860117e-05\n        ],\n        \"semantic_type\": \"\",\n        \"description\": \"\"\n      }\n    }\n  ]\n}"
            }
          },
          "metadata": {},
          "execution_count": 269
        }
      ]
    },
    {
      "cell_type": "code",
      "source": [
        "n = X_train.shape[0]\n",
        "k = X_train.shape[1]\n",
        "dfN = n - k\n",
        "\n",
        "train_pred = lm.predict(X_train)\n",
        "train_error = np.square(train_pred - y_train)\n",
        "sum_error = np.sum(train_error)\n",
        "se = [0] * k\n",
        "\n",
        "for i in range(k):\n",
        "    r = (sum_error / dfN)\n",
        "    r = r / np.sum(np.square(X_train.iloc[:, i] - X_train.iloc[:, i].mean()))\n",
        "    se[i] = np.sqrt(r)\n",
        "\n",
        "cdf = pd.DataFrame({'Coefficients': lm.coef_})\n",
        "cdf['Standard Error'] = se\n",
        "cdf['t-statistic'] = cdf['Coefficients'] / cdf['Standard Error']\n",
        "cdf"
      ],
      "metadata": {
        "colab": {
          "base_uri": "https://localhost:8080/",
          "height": 143
        },
        "id": "6L6ES_MkA-Ub",
        "outputId": "ad320004-678c-4856-dded-5ec1c7618b50"
      },
      "execution_count": 270,
      "outputs": [
        {
          "output_type": "execute_result",
          "data": {
            "text/plain": [
              "   Coefficients  Standard Error  t-statistic\n",
              "0      0.000705        0.000003   208.711515\n",
              "1     -0.000068        0.000041    -1.660687\n",
              "2      0.000045        0.000023     1.928011"
            ],
            "text/html": [
              "\n",
              "  <div id=\"df-9c81546a-1aa2-439c-92de-61fd17c9c304\" class=\"colab-df-container\">\n",
              "    <div>\n",
              "<style scoped>\n",
              "    .dataframe tbody tr th:only-of-type {\n",
              "        vertical-align: middle;\n",
              "    }\n",
              "\n",
              "    .dataframe tbody tr th {\n",
              "        vertical-align: top;\n",
              "    }\n",
              "\n",
              "    .dataframe thead th {\n",
              "        text-align: right;\n",
              "    }\n",
              "</style>\n",
              "<table border=\"1\" class=\"dataframe\">\n",
              "  <thead>\n",
              "    <tr style=\"text-align: right;\">\n",
              "      <th></th>\n",
              "      <th>Coefficients</th>\n",
              "      <th>Standard Error</th>\n",
              "      <th>t-statistic</th>\n",
              "    </tr>\n",
              "  </thead>\n",
              "  <tbody>\n",
              "    <tr>\n",
              "      <th>0</th>\n",
              "      <td>0.000705</td>\n",
              "      <td>0.000003</td>\n",
              "      <td>208.711515</td>\n",
              "    </tr>\n",
              "    <tr>\n",
              "      <th>1</th>\n",
              "      <td>-0.000068</td>\n",
              "      <td>0.000041</td>\n",
              "      <td>-1.660687</td>\n",
              "    </tr>\n",
              "    <tr>\n",
              "      <th>2</th>\n",
              "      <td>0.000045</td>\n",
              "      <td>0.000023</td>\n",
              "      <td>1.928011</td>\n",
              "    </tr>\n",
              "  </tbody>\n",
              "</table>\n",
              "</div>\n",
              "    <div class=\"colab-df-buttons\">\n",
              "\n",
              "  <div class=\"colab-df-container\">\n",
              "    <button class=\"colab-df-convert\" onclick=\"convertToInteractive('df-9c81546a-1aa2-439c-92de-61fd17c9c304')\"\n",
              "            title=\"Convert this dataframe to an interactive table.\"\n",
              "            style=\"display:none;\">\n",
              "\n",
              "  <svg xmlns=\"http://www.w3.org/2000/svg\" height=\"24px\" viewBox=\"0 -960 960 960\">\n",
              "    <path d=\"M120-120v-720h720v720H120Zm60-500h600v-160H180v160Zm220 220h160v-160H400v160Zm0 220h160v-160H400v160ZM180-400h160v-160H180v160Zm440 0h160v-160H620v160ZM180-180h160v-160H180v160Zm440 0h160v-160H620v160Z\"/>\n",
              "  </svg>\n",
              "    </button>\n",
              "\n",
              "  <style>\n",
              "    .colab-df-container {\n",
              "      display:flex;\n",
              "      gap: 12px;\n",
              "    }\n",
              "\n",
              "    .colab-df-convert {\n",
              "      background-color: #E8F0FE;\n",
              "      border: none;\n",
              "      border-radius: 50%;\n",
              "      cursor: pointer;\n",
              "      display: none;\n",
              "      fill: #1967D2;\n",
              "      height: 32px;\n",
              "      padding: 0 0 0 0;\n",
              "      width: 32px;\n",
              "    }\n",
              "\n",
              "    .colab-df-convert:hover {\n",
              "      background-color: #E2EBFA;\n",
              "      box-shadow: 0px 1px 2px rgba(60, 64, 67, 0.3), 0px 1px 3px 1px rgba(60, 64, 67, 0.15);\n",
              "      fill: #174EA6;\n",
              "    }\n",
              "\n",
              "    .colab-df-buttons div {\n",
              "      margin-bottom: 4px;\n",
              "    }\n",
              "\n",
              "    [theme=dark] .colab-df-convert {\n",
              "      background-color: #3B4455;\n",
              "      fill: #D2E3FC;\n",
              "    }\n",
              "\n",
              "    [theme=dark] .colab-df-convert:hover {\n",
              "      background-color: #434B5C;\n",
              "      box-shadow: 0px 1px 3px 1px rgba(0, 0, 0, 0.15);\n",
              "      filter: drop-shadow(0px 1px 2px rgba(0, 0, 0, 0.3));\n",
              "      fill: #FFFFFF;\n",
              "    }\n",
              "  </style>\n",
              "\n",
              "    <script>\n",
              "      const buttonEl =\n",
              "        document.querySelector('#df-9c81546a-1aa2-439c-92de-61fd17c9c304 button.colab-df-convert');\n",
              "      buttonEl.style.display =\n",
              "        google.colab.kernel.accessAllowed ? 'block' : 'none';\n",
              "\n",
              "      async function convertToInteractive(key) {\n",
              "        const element = document.querySelector('#df-9c81546a-1aa2-439c-92de-61fd17c9c304');\n",
              "        const dataTable =\n",
              "          await google.colab.kernel.invokeFunction('convertToInteractive',\n",
              "                                                    [key], {});\n",
              "        if (!dataTable) return;\n",
              "\n",
              "        const docLinkHtml = 'Like what you see? Visit the ' +\n",
              "          '<a target=\"_blank\" href=https://colab.research.google.com/notebooks/data_table.ipynb>data table notebook</a>'\n",
              "          + ' to learn more about interactive tables.';\n",
              "        element.innerHTML = '';\n",
              "        dataTable['output_type'] = 'display_data';\n",
              "        await google.colab.output.renderOutput(dataTable, element);\n",
              "        const docLink = document.createElement('div');\n",
              "        docLink.innerHTML = docLinkHtml;\n",
              "        element.appendChild(docLink);\n",
              "      }\n",
              "    </script>\n",
              "  </div>\n",
              "\n",
              "\n",
              "<div id=\"df-120e3d7c-859b-4ed4-af53-341767608789\">\n",
              "  <button class=\"colab-df-quickchart\" onclick=\"quickchart('df-120e3d7c-859b-4ed4-af53-341767608789')\"\n",
              "            title=\"Suggest charts\"\n",
              "            style=\"display:none;\">\n",
              "\n",
              "<svg xmlns=\"http://www.w3.org/2000/svg\" height=\"24px\"viewBox=\"0 0 24 24\"\n",
              "     width=\"24px\">\n",
              "    <g>\n",
              "        <path d=\"M19 3H5c-1.1 0-2 .9-2 2v14c0 1.1.9 2 2 2h14c1.1 0 2-.9 2-2V5c0-1.1-.9-2-2-2zM9 17H7v-7h2v7zm4 0h-2V7h2v10zm4 0h-2v-4h2v4z\"/>\n",
              "    </g>\n",
              "</svg>\n",
              "  </button>\n",
              "\n",
              "<style>\n",
              "  .colab-df-quickchart {\n",
              "      --bg-color: #E8F0FE;\n",
              "      --fill-color: #1967D2;\n",
              "      --hover-bg-color: #E2EBFA;\n",
              "      --hover-fill-color: #174EA6;\n",
              "      --disabled-fill-color: #AAA;\n",
              "      --disabled-bg-color: #DDD;\n",
              "  }\n",
              "\n",
              "  [theme=dark] .colab-df-quickchart {\n",
              "      --bg-color: #3B4455;\n",
              "      --fill-color: #D2E3FC;\n",
              "      --hover-bg-color: #434B5C;\n",
              "      --hover-fill-color: #FFFFFF;\n",
              "      --disabled-bg-color: #3B4455;\n",
              "      --disabled-fill-color: #666;\n",
              "  }\n",
              "\n",
              "  .colab-df-quickchart {\n",
              "    background-color: var(--bg-color);\n",
              "    border: none;\n",
              "    border-radius: 50%;\n",
              "    cursor: pointer;\n",
              "    display: none;\n",
              "    fill: var(--fill-color);\n",
              "    height: 32px;\n",
              "    padding: 0;\n",
              "    width: 32px;\n",
              "  }\n",
              "\n",
              "  .colab-df-quickchart:hover {\n",
              "    background-color: var(--hover-bg-color);\n",
              "    box-shadow: 0 1px 2px rgba(60, 64, 67, 0.3), 0 1px 3px 1px rgba(60, 64, 67, 0.15);\n",
              "    fill: var(--button-hover-fill-color);\n",
              "  }\n",
              "\n",
              "  .colab-df-quickchart-complete:disabled,\n",
              "  .colab-df-quickchart-complete:disabled:hover {\n",
              "    background-color: var(--disabled-bg-color);\n",
              "    fill: var(--disabled-fill-color);\n",
              "    box-shadow: none;\n",
              "  }\n",
              "\n",
              "  .colab-df-spinner {\n",
              "    border: 2px solid var(--fill-color);\n",
              "    border-color: transparent;\n",
              "    border-bottom-color: var(--fill-color);\n",
              "    animation:\n",
              "      spin 1s steps(1) infinite;\n",
              "  }\n",
              "\n",
              "  @keyframes spin {\n",
              "    0% {\n",
              "      border-color: transparent;\n",
              "      border-bottom-color: var(--fill-color);\n",
              "      border-left-color: var(--fill-color);\n",
              "    }\n",
              "    20% {\n",
              "      border-color: transparent;\n",
              "      border-left-color: var(--fill-color);\n",
              "      border-top-color: var(--fill-color);\n",
              "    }\n",
              "    30% {\n",
              "      border-color: transparent;\n",
              "      border-left-color: var(--fill-color);\n",
              "      border-top-color: var(--fill-color);\n",
              "      border-right-color: var(--fill-color);\n",
              "    }\n",
              "    40% {\n",
              "      border-color: transparent;\n",
              "      border-right-color: var(--fill-color);\n",
              "      border-top-color: var(--fill-color);\n",
              "    }\n",
              "    60% {\n",
              "      border-color: transparent;\n",
              "      border-right-color: var(--fill-color);\n",
              "    }\n",
              "    80% {\n",
              "      border-color: transparent;\n",
              "      border-right-color: var(--fill-color);\n",
              "      border-bottom-color: var(--fill-color);\n",
              "    }\n",
              "    90% {\n",
              "      border-color: transparent;\n",
              "      border-bottom-color: var(--fill-color);\n",
              "    }\n",
              "  }\n",
              "</style>\n",
              "\n",
              "  <script>\n",
              "    async function quickchart(key) {\n",
              "      const quickchartButtonEl =\n",
              "        document.querySelector('#' + key + ' button');\n",
              "      quickchartButtonEl.disabled = true;  // To prevent multiple clicks.\n",
              "      quickchartButtonEl.classList.add('colab-df-spinner');\n",
              "      try {\n",
              "        const charts = await google.colab.kernel.invokeFunction(\n",
              "            'suggestCharts', [key], {});\n",
              "      } catch (error) {\n",
              "        console.error('Error during call to suggestCharts:', error);\n",
              "      }\n",
              "      quickchartButtonEl.classList.remove('colab-df-spinner');\n",
              "      quickchartButtonEl.classList.add('colab-df-quickchart-complete');\n",
              "    }\n",
              "    (() => {\n",
              "      let quickchartButtonEl =\n",
              "        document.querySelector('#df-120e3d7c-859b-4ed4-af53-341767608789 button');\n",
              "      quickchartButtonEl.style.display =\n",
              "        google.colab.kernel.accessAllowed ? 'block' : 'none';\n",
              "    })();\n",
              "  </script>\n",
              "</div>\n",
              "\n",
              "  <div id=\"id_8973ee6a-df0f-43d1-a8e0-1c9b30172843\">\n",
              "    <style>\n",
              "      .colab-df-generate {\n",
              "        background-color: #E8F0FE;\n",
              "        border: none;\n",
              "        border-radius: 50%;\n",
              "        cursor: pointer;\n",
              "        display: none;\n",
              "        fill: #1967D2;\n",
              "        height: 32px;\n",
              "        padding: 0 0 0 0;\n",
              "        width: 32px;\n",
              "      }\n",
              "\n",
              "      .colab-df-generate:hover {\n",
              "        background-color: #E2EBFA;\n",
              "        box-shadow: 0px 1px 2px rgba(60, 64, 67, 0.3), 0px 1px 3px 1px rgba(60, 64, 67, 0.15);\n",
              "        fill: #174EA6;\n",
              "      }\n",
              "\n",
              "      [theme=dark] .colab-df-generate {\n",
              "        background-color: #3B4455;\n",
              "        fill: #D2E3FC;\n",
              "      }\n",
              "\n",
              "      [theme=dark] .colab-df-generate:hover {\n",
              "        background-color: #434B5C;\n",
              "        box-shadow: 0px 1px 3px 1px rgba(0, 0, 0, 0.15);\n",
              "        filter: drop-shadow(0px 1px 2px rgba(0, 0, 0, 0.3));\n",
              "        fill: #FFFFFF;\n",
              "      }\n",
              "    </style>\n",
              "    <button class=\"colab-df-generate\" onclick=\"generateWithVariable('cdf')\"\n",
              "            title=\"Generate code using this dataframe.\"\n",
              "            style=\"display:none;\">\n",
              "\n",
              "  <svg xmlns=\"http://www.w3.org/2000/svg\" height=\"24px\"viewBox=\"0 0 24 24\"\n",
              "       width=\"24px\">\n",
              "    <path d=\"M7,19H8.4L18.45,9,17,7.55,7,17.6ZM5,21V16.75L18.45,3.32a2,2,0,0,1,2.83,0l1.4,1.43a1.91,1.91,0,0,1,.58,1.4,1.91,1.91,0,0,1-.58,1.4L9.25,21ZM18.45,9,17,7.55Zm-12,3A5.31,5.31,0,0,0,4.9,8.1,5.31,5.31,0,0,0,1,6.5,5.31,5.31,0,0,0,4.9,4.9,5.31,5.31,0,0,0,6.5,1,5.31,5.31,0,0,0,8.1,4.9,5.31,5.31,0,0,0,12,6.5,5.46,5.46,0,0,0,6.5,12Z\"/>\n",
              "  </svg>\n",
              "    </button>\n",
              "    <script>\n",
              "      (() => {\n",
              "      const buttonEl =\n",
              "        document.querySelector('#id_8973ee6a-df0f-43d1-a8e0-1c9b30172843 button.colab-df-generate');\n",
              "      buttonEl.style.display =\n",
              "        google.colab.kernel.accessAllowed ? 'block' : 'none';\n",
              "\n",
              "      buttonEl.onclick = () => {\n",
              "        google.colab.notebook.generateWithVariable('cdf');\n",
              "      }\n",
              "      })();\n",
              "    </script>\n",
              "  </div>\n",
              "\n",
              "    </div>\n",
              "  </div>\n"
            ],
            "application/vnd.google.colaboratory.intrinsic+json": {
              "type": "dataframe",
              "variable_name": "cdf",
              "summary": "{\n  \"name\": \"cdf\",\n  \"rows\": 3,\n  \"fields\": [\n    {\n      \"column\": \"Coefficients\",\n      \"properties\": {\n        \"dtype\": \"number\",\n        \"std\": 0.0004175857784063766,\n        \"min\": -6.839551707238037e-05,\n        \"max\": 0.0007049792203657491,\n        \"num_unique_values\": 3,\n        \"samples\": [\n          0.0007049792203657491,\n          -6.839551707238037e-05,\n          4.524921101860117e-05\n        ],\n        \"semantic_type\": \"\",\n        \"description\": \"\"\n      }\n    },\n    {\n      \"column\": \"Standard Error\",\n      \"properties\": {\n        \"dtype\": \"number\",\n        \"std\": 1.8916093421651332e-05,\n        \"min\": 3.377768684888761e-06,\n        \"max\": 4.1185079448989386e-05,\n        \"num_unique_values\": 3,\n        \"samples\": [\n          3.377768684888761e-06,\n          4.1185079448989386e-05,\n          2.3469367920815625e-05\n        ],\n        \"semantic_type\": \"\",\n        \"description\": \"\"\n      }\n    },\n    {\n      \"column\": \"t-statistic\",\n      \"properties\": {\n        \"dtype\": \"number\",\n        \"std\": 120.43584707577122,\n        \"min\": -1.6606867823842133,\n        \"max\": 208.7115152436692,\n        \"num_unique_values\": 3,\n        \"samples\": [\n          208.7115152436692,\n          -1.6606867823842133,\n          1.9280114901802876\n        ],\n        \"semantic_type\": \"\",\n        \"description\": \"\"\n      }\n    }\n  ]\n}"
            }
          },
          "metadata": {},
          "execution_count": 270
        }
      ]
    },
    {
      "cell_type": "code",
      "source": [
        "print(X_train.columns)"
      ],
      "metadata": {
        "colab": {
          "base_uri": "https://localhost:8080/"
        },
        "id": "9FQULjKtB3TJ",
        "outputId": "47f2fed5-893c-49e3-a93b-eef75187ec76"
      },
      "execution_count": 271,
      "outputs": [
        {
          "output_type": "stream",
          "name": "stdout",
          "text": [
            "Index(['Daily AQI Value', 'Daily Obs Count', 'Percent Complete'], dtype='object')\n"
          ]
        }
      ]
    },
    {
      "cell_type": "code",
      "source": [
        "print(\"Valor del R cuadrado de este ajuste:\",round(metrics.r2_score(y_train,train_pred),3))"
      ],
      "metadata": {
        "colab": {
          "base_uri": "https://localhost:8080/"
        },
        "id": "GmgzqiAQB5fN",
        "outputId": "5cedeac3-662d-4761-9645-de6c2ec4cc7a"
      },
      "execution_count": 272,
      "outputs": [
        {
          "output_type": "stream",
          "name": "stdout",
          "text": [
            "Valor del R cuadrado de este ajuste: 0.877\n"
          ]
        }
      ]
    },
    {
      "cell_type": "code",
      "source": [
        "predictions = lm.predict(X_test)\n",
        "print (\"Tipo del objeto predicho :\", type(predictions))\n",
        "print (\"Tamaño del objeto predicho:\", predictions.shape)"
      ],
      "metadata": {
        "colab": {
          "base_uri": "https://localhost:8080/"
        },
        "id": "3X8Eq5ZwCGFn",
        "outputId": "0cd7cff2-1e8c-46ef-ca8b-04220888faf2"
      },
      "execution_count": 273,
      "outputs": [
        {
          "output_type": "stream",
          "name": "stdout",
          "text": [
            "Tipo del objeto predicho : <class 'numpy.ndarray'>\n",
            "Tamaño del objeto predicho: (2626,)\n"
          ]
        }
      ]
    },
    {
      "cell_type": "code",
      "source": [
        "plt.figure(figsize=(10,7))\n",
        "plt.title(\"Concentración de Ozono real vs. la predicho\",fontsize=20)\n",
        "plt.xlabel(\"Conjunto real de concentraciónd de ozono\",fontsize=18)\n",
        "plt.ylabel(\"Concentraciones predichas de ozono\", fontsize=18)\n",
        "plt.scatter(x=y_test,y=predictions)"
      ],
      "metadata": {
        "colab": {
          "base_uri": "https://localhost:8080/",
          "height": 680
        },
        "id": "Vh3uYn0FCJpP",
        "outputId": "fde3aa9c-1515-4ffc-eb0f-7cfe6e1d3301"
      },
      "execution_count": 274,
      "outputs": [
        {
          "output_type": "execute_result",
          "data": {
            "text/plain": [
              "<matplotlib.collections.PathCollection at 0x7f8f29748670>"
            ]
          },
          "metadata": {},
          "execution_count": 274
        },
        {
          "output_type": "display_data",
          "data": {
            "text/plain": [
              "<Figure size 1000x700 with 1 Axes>"
            ],
            "image/png": "[encoded data removed]"
          },
          "metadata": {}
        }
      ]
    },
    {
      "cell_type": "code",
      "source": [
        "plt.figure(figsize=(10,7))\n",
        "plt.title(\"Histograma de residuos para verificar la normalidad \",fontsize=20)\n",
        "plt.xlabel(\"Residuos\",fontsize=18)\n",
        "plt.ylabel(\"Densidad del kernel\", fontsize=18)\n",
        "sns.distplot([y_test-predictions])"
      ],
      "metadata": {
        "colab": {
          "base_uri": "https://localhost:8080/",
          "height": 876
        },
        "id": "zKYRJH3ACZu5",
        "outputId": "a30250b9-9de6-4fe2-b31b-c40f8bb9193d"
      },
      "execution_count": 275,
      "outputs": [
        {
          "output_type": "stream",
          "name": "stderr",
          "text": [
            "<ipython-input-275-4c2cbfe41e89>:5: UserWarning: \n",
            "\n",
            "`distplot` is a deprecated function and will be removed in seaborn v0.14.0.\n",
            "\n",
            "Please adapt your code to use either `displot` (a figure-level function with\n",
            "similar flexibility) or `histplot` (an axes-level function for histograms).\n",
            "\n",
            "For a guide to updating your code to use the new functions, please see\n",
            "https://gist.github.com/mwaskom/de44147ed2974457ad6372750bbe5751\n",
            "\n",
            "  sns.distplot([y_test-predictions])\n"
          ]
        },
        {
          "output_type": "execute_result",
          "data": {
            "text/plain": [
              "<Axes: title={'center': 'Histograma de residuos para verificar la normalidad '}, xlabel='Residuos', ylabel='Densidad del kernel'>"
            ]
          },
          "metadata": {},
          "execution_count": 275
        },
        {
          "output_type": "display_data",
          "data": {
            "text/plain": [
              "<Figure size 1000x700 with 1 Axes>"
            ],
            "image/png": "[encoded data removed]"
          },
          "metadata": {}
        }
      ]
    },
    {
      "cell_type": "markdown",
      "source": [
        "## **VI. Métricas Finales**"
      ],
      "metadata": {
        "id": "Bj210rAchwCO"
      }
    },
    {
      "cell_type": "code",
      "source": [
        "print(\"Mean absolute error (MAE):\", metrics.mean_absolute_error(y_test,predictions))\n",
        "print(\"Mean square error (MSE):\", metrics.mean_squared_error(y_test,predictions))\n",
        "print(\"Root mean square error (RMSE):\", np.sqrt(metrics.mean_squared_error(y_test,predictions)))"
      ],
      "metadata": {
        "colab": {
          "base_uri": "https://localhost:8080/"
        },
        "id": "Ipb13TtvCuRJ",
        "outputId": "8b481ce9-0408-4c86-ffb2-9397f8ccb6f6"
      },
      "execution_count": 276,
      "outputs": [
        {
          "output_type": "stream",
          "name": "stdout",
          "text": [
            "Mean absolute error (MAE): 0.003740028421800997\n",
            "Mean square error (MSE): 2.706626684887823e-05\n",
            "Root mean square error (RMSE): 0.005202525045483033\n"
          ]
        }
      ]
    },
    {
      "cell_type": "code",
      "source": [
        "print(\"Valor R-squared de las predicciones:\",round(metrics.r2_score(y_test,predictions),3))"
      ],
      "metadata": {
        "id": "8643MTC-DNBL",
        "outputId": "cd434664-e694-49ab-9bb3-a8cfc5456951",
        "colab": {
          "base_uri": "https://localhost:8080/"
        }
      },
      "execution_count": 277,
      "outputs": [
        {
          "output_type": "stream",
          "name": "stdout",
          "text": [
            "Valor R-squared de las predicciones: 0.855\n"
          ]
        }
      ]
    }
  ]
}
